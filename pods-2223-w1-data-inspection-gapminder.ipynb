{
 "cells": [
  {
   "cell_type": "markdown",
   "id": "8eea6195-7fc0-4276-a468-7ba9ad5d2428",
   "metadata": {
    "pycharm": {
     "name": "#%% md\n"
    }
   },
   "source": [
    "# Data Inspection and Subsetting with GapMinder"
   ]
  },
  {
   "cell_type": "markdown",
   "id": "914f0b6c-c9ac-4267-8fae-414e76bec9be",
   "metadata": {
    "pycharm": {
     "name": "#%% md\n"
    }
   },
   "source": [
    "## A First Dive\n",
    "\n",
    "* We are all going to **start with an new, empty notebook**, and create and edit cells by **typing the appropriate code or text** (avoiding copy-and-pasting).\n",
    "\n",
    "* It is absolutely fine, and expected, that you won't understand all of the code involved. For the moment, let us think more broadly about the goal of each cell; later, and iteratively, we will revisit the code and unpack things.\n",
    "\n",
    "* Firstly, we should import some essential modules for manipulating and visualising datasets; also, do some very basic configuration of the visualisation engine running behind the scenes."
   ]
  },
  {
   "cell_type": "markdown",
   "id": "be670822-6fc9-4bd1-affd-f0f3c64f10f9",
   "metadata": {
    "pycharm": {
     "name": "#%% md\n"
    }
   },
   "source": [
    "### Preamble: Importing and Configuring Essential Packages\n",
    "\n",
    "This will naturally look cryptic to most - the key points to take away are:\n",
    "\n",
    "* the essential modules for data visualisation: `matplotlib`, `seaborn`\n",
    "* ...and for data manipulation: `pandas`, `numpy`\n",
    "* ...and for machine learning: `scikit-learn`\n",
    "* `sns.set` sets up the visualisation engine (e.g., default size of figures)\n",
    "* the `%` *magic* statements tell Jupyter Lab to place output plots in the notebook itself and to use higher resolution if possible."
   ]
  },
  {
   "cell_type": "code",
   "execution_count": 40,
   "id": "24daaa0f-284f-48e5-802b-dc45f8cd9e13",
   "metadata": {
    "pycharm": {
     "name": "#%%\n"
    }
   },
   "outputs": [],
   "source": [
    "%matplotlib inline\n",
    "import numpy as np\n",
    "import pandas as pd\n",
    "import matplotlib.pyplot as plt\n",
    "import seaborn as sns\n",
    "sns.set(\n",
    "    { \"figure.figsize\": (8, 6) },\n",
    "    style='ticks',\n",
    "    color_codes=True,\n",
    "    font_scale=0.8\n",
    ")\n",
    "%config InlineBackend.figure_formats = set(('retina', 'svg'))"
   ]
  },
  {
   "cell_type": "markdown",
   "id": "cc4cde76-c013-4beb-9260-7c47d4e50788",
   "metadata": {
    "pycharm": {
     "name": "#%% md\n"
    }
   },
   "source": [
    "### The (Simplified) GapMinder Dataset\n",
    "\n",
    "* We will make use of the simplified `gapminder` dataset, which concerns records of population, life expectancy, and GDP of countries spanning some 50 years. The dataset can be downloaded from [here](https://github.com/jennybc/gapminder/blob/master/inst/extdata/gapminder.tsv).\n",
    "    - Have a look at the dataset rendered at the GitHub link and browse its structure and content for a quick understanding of the data.\n",
    "\n",
    "* It is a tab-separated value (`.tsv`) text file. One is able to see it raw [here](https://github.com/jennybc/gapminder/blob/master/inst/extdata/gapminder.tsv?raw=True).\n",
    "\n",
    "* For more on `gapminder`, you might want to check some of [Hans Rosling's TED talks](https://www.ted.com/playlists/474/the_best_hans_rosling_talks_yo) or the book [Factfulness: Ten Reasons We're Wrong About the World--and Why Things Are Better Than You Think](https://g.co/kgs/bEBSWN).\n",
    "\n",
    "* I have added the dataset to my GitHub for convenience."
   ]
  },
  {
   "cell_type": "markdown",
   "id": "c9ad6166-682f-4458-83b9-ffa6a323face",
   "metadata": {
    "pycharm": {
     "name": "#%% md\n"
    }
   },
   "source": [
    "* We will ask `pandas` to read the data file and instantiate a **DataFrame** object, which we assign to the variable named `gm` for later reference.\n",
    "\n",
    "* The URL to the data file, provided as an **argument** to `.read_csv`, should be enclosed by a pair of single quotes (you might want to copy the link to the raw data from a previous slide).\n",
    "\n",
    "* `sep=\\t` indicates that the data is tab-separated (rather the comma-separated)."
   ]
  },
  {
   "cell_type": "code",
   "execution_count": 41,
   "id": "5891d439-8b41-4ea6-a240-e8b292981377",
   "metadata": {
    "pycharm": {
     "name": "#%%\n"
    }
   },
   "outputs": [],
   "source": [
    "gm = pd.read_csv(\n",
    "    'https://raw.githubusercontent.com/gerberl/6G7V0026-2223/main/datasets/gapminder.tsv',\n",
    "    sep='\\t'\n",
    ")"
   ]
  },
  {
   "cell_type": "code",
   "execution_count": 42,
   "id": "4b348633-c3cb-4e3a-adb5-de11d96968d8",
   "metadata": {
    "pycharm": {
     "name": "#%%\n"
    }
   },
   "outputs": [
    {
     "data": {
      "text/html": [
       "<div>\n",
       "<style scoped>\n",
       "    .dataframe tbody tr th:only-of-type {\n",
       "        vertical-align: middle;\n",
       "    }\n",
       "\n",
       "    .dataframe tbody tr th {\n",
       "        vertical-align: top;\n",
       "    }\n",
       "\n",
       "    .dataframe thead th {\n",
       "        text-align: right;\n",
       "    }\n",
       "</style>\n",
       "<table border=\"1\" class=\"dataframe\">\n",
       "  <thead>\n",
       "    <tr style=\"text-align: right;\">\n",
       "      <th></th>\n",
       "      <th>country</th>\n",
       "      <th>continent</th>\n",
       "      <th>year</th>\n",
       "      <th>lifeExp</th>\n",
       "      <th>pop</th>\n",
       "      <th>gdpPercap</th>\n",
       "    </tr>\n",
       "  </thead>\n",
       "  <tbody>\n",
       "    <tr>\n",
       "      <th>0</th>\n",
       "      <td>Afghanistan</td>\n",
       "      <td>Asia</td>\n",
       "      <td>1952</td>\n",
       "      <td>28.801</td>\n",
       "      <td>8425333</td>\n",
       "      <td>779.445314</td>\n",
       "    </tr>\n",
       "    <tr>\n",
       "      <th>1</th>\n",
       "      <td>Afghanistan</td>\n",
       "      <td>Asia</td>\n",
       "      <td>1957</td>\n",
       "      <td>30.332</td>\n",
       "      <td>9240934</td>\n",
       "      <td>820.853030</td>\n",
       "    </tr>\n",
       "    <tr>\n",
       "      <th>2</th>\n",
       "      <td>Afghanistan</td>\n",
       "      <td>Asia</td>\n",
       "      <td>1962</td>\n",
       "      <td>31.997</td>\n",
       "      <td>10267083</td>\n",
       "      <td>853.100710</td>\n",
       "    </tr>\n",
       "    <tr>\n",
       "      <th>3</th>\n",
       "      <td>Afghanistan</td>\n",
       "      <td>Asia</td>\n",
       "      <td>1967</td>\n",
       "      <td>34.020</td>\n",
       "      <td>11537966</td>\n",
       "      <td>836.197138</td>\n",
       "    </tr>\n",
       "    <tr>\n",
       "      <th>4</th>\n",
       "      <td>Afghanistan</td>\n",
       "      <td>Asia</td>\n",
       "      <td>1972</td>\n",
       "      <td>36.088</td>\n",
       "      <td>13079460</td>\n",
       "      <td>739.981106</td>\n",
       "    </tr>\n",
       "  </tbody>\n",
       "</table>\n",
       "</div>"
      ],
      "text/plain": [
       "       country continent  year  lifeExp       pop   gdpPercap\n",
       "0  Afghanistan      Asia  1952   28.801   8425333  779.445314\n",
       "1  Afghanistan      Asia  1957   30.332   9240934  820.853030\n",
       "2  Afghanistan      Asia  1962   31.997  10267083  853.100710\n",
       "3  Afghanistan      Asia  1967   34.020  11537966  836.197138\n",
       "4  Afghanistan      Asia  1972   36.088  13079460  739.981106"
      ]
     },
     "execution_count": 42,
     "metadata": {},
     "output_type": "execute_result"
    }
   ],
   "source": [
    "# Let us inspect the data by, say, just take a few of the top rows.\n",
    "gm.head(5)"
   ]
  },
  {
   "cell_type": "markdown",
   "id": "a9c6bcc5-df63-42bb-a5ef-6a365ca10e37",
   "metadata": {
    "id": "v5mMnv5Sjw0O",
    "pycharm": {
     "name": "#%% md\n"
    }
   },
   "source": [
    "What follows are some variations on getting familiar with the data with some simple inspection that relies on DataFrame **methods**."
   ]
  },
  {
   "cell_type": "code",
   "execution_count": 43,
   "id": "4e2204e9-b01a-41f5-8898-e6dbdee5a1b3",
   "metadata": {
    "id": "_D9Ow1Lsjw0P",
    "pycharm": {
     "name": "#%%\n"
    }
   },
   "outputs": [
    {
     "data": {
      "text/html": [
       "<div>\n",
       "<style scoped>\n",
       "    .dataframe tbody tr th:only-of-type {\n",
       "        vertical-align: middle;\n",
       "    }\n",
       "\n",
       "    .dataframe tbody tr th {\n",
       "        vertical-align: top;\n",
       "    }\n",
       "\n",
       "    .dataframe thead th {\n",
       "        text-align: right;\n",
       "    }\n",
       "</style>\n",
       "<table border=\"1\" class=\"dataframe\">\n",
       "  <thead>\n",
       "    <tr style=\"text-align: right;\">\n",
       "      <th></th>\n",
       "      <th>country</th>\n",
       "      <th>continent</th>\n",
       "      <th>year</th>\n",
       "      <th>lifeExp</th>\n",
       "      <th>pop</th>\n",
       "      <th>gdpPercap</th>\n",
       "    </tr>\n",
       "  </thead>\n",
       "  <tbody>\n",
       "    <tr>\n",
       "      <th>0</th>\n",
       "      <td>Afghanistan</td>\n",
       "      <td>Asia</td>\n",
       "      <td>1952</td>\n",
       "      <td>28.801</td>\n",
       "      <td>8425333</td>\n",
       "      <td>779.445314</td>\n",
       "    </tr>\n",
       "    <tr>\n",
       "      <th>1</th>\n",
       "      <td>Afghanistan</td>\n",
       "      <td>Asia</td>\n",
       "      <td>1957</td>\n",
       "      <td>30.332</td>\n",
       "      <td>9240934</td>\n",
       "      <td>820.853030</td>\n",
       "    </tr>\n",
       "    <tr>\n",
       "      <th>2</th>\n",
       "      <td>Afghanistan</td>\n",
       "      <td>Asia</td>\n",
       "      <td>1962</td>\n",
       "      <td>31.997</td>\n",
       "      <td>10267083</td>\n",
       "      <td>853.100710</td>\n",
       "    </tr>\n",
       "    <tr>\n",
       "      <th>3</th>\n",
       "      <td>Afghanistan</td>\n",
       "      <td>Asia</td>\n",
       "      <td>1967</td>\n",
       "      <td>34.020</td>\n",
       "      <td>11537966</td>\n",
       "      <td>836.197138</td>\n",
       "    </tr>\n",
       "    <tr>\n",
       "      <th>4</th>\n",
       "      <td>Afghanistan</td>\n",
       "      <td>Asia</td>\n",
       "      <td>1972</td>\n",
       "      <td>36.088</td>\n",
       "      <td>13079460</td>\n",
       "      <td>739.981106</td>\n",
       "    </tr>\n",
       "  </tbody>\n",
       "</table>\n",
       "</div>"
      ],
      "text/plain": [
       "       country continent  year  lifeExp       pop   gdpPercap\n",
       "0  Afghanistan      Asia  1952   28.801   8425333  779.445314\n",
       "1  Afghanistan      Asia  1957   30.332   9240934  820.853030\n",
       "2  Afghanistan      Asia  1962   31.997  10267083  853.100710\n",
       "3  Afghanistan      Asia  1967   34.020  11537966  836.197138\n",
       "4  Afghanistan      Asia  1972   36.088  13079460  739.981106"
      ]
     },
     "execution_count": 43,
     "metadata": {},
     "output_type": "execute_result"
    }
   ],
   "source": [
    "gm.head()"
   ]
  },
  {
   "cell_type": "code",
   "execution_count": 44,
   "id": "6226d414-cb51-4007-9245-481cb5cd152b",
   "metadata": {
    "id": "3wR6p3Objw0P",
    "pycharm": {
     "name": "#%%\n"
    }
   },
   "outputs": [
    {
     "data": {
      "text/html": [
       "<div>\n",
       "<style scoped>\n",
       "    .dataframe tbody tr th:only-of-type {\n",
       "        vertical-align: middle;\n",
       "    }\n",
       "\n",
       "    .dataframe tbody tr th {\n",
       "        vertical-align: top;\n",
       "    }\n",
       "\n",
       "    .dataframe thead th {\n",
       "        text-align: right;\n",
       "    }\n",
       "</style>\n",
       "<table border=\"1\" class=\"dataframe\">\n",
       "  <thead>\n",
       "    <tr style=\"text-align: right;\">\n",
       "      <th></th>\n",
       "      <th>country</th>\n",
       "      <th>continent</th>\n",
       "      <th>year</th>\n",
       "      <th>lifeExp</th>\n",
       "      <th>pop</th>\n",
       "      <th>gdpPercap</th>\n",
       "    </tr>\n",
       "  </thead>\n",
       "  <tbody>\n",
       "    <tr>\n",
       "      <th>1069</th>\n",
       "      <td>Nepal</td>\n",
       "      <td>Asia</td>\n",
       "      <td>1957</td>\n",
       "      <td>37.686</td>\n",
       "      <td>9682338</td>\n",
       "      <td>597.936356</td>\n",
       "    </tr>\n",
       "  </tbody>\n",
       "</table>\n",
       "</div>"
      ],
      "text/plain": [
       "     country continent  year  lifeExp      pop   gdpPercap\n",
       "1069   Nepal      Asia  1957   37.686  9682338  597.936356"
      ]
     },
     "execution_count": 44,
     "metadata": {},
     "output_type": "execute_result"
    }
   ],
   "source": [
    "gm.sample()"
   ]
  },
  {
   "cell_type": "code",
   "execution_count": 45,
   "id": "1b6da9f6-3f52-4eef-9e0e-c177b2822fd7",
   "metadata": {
    "id": "QcV2TTP-jw0P",
    "pycharm": {
     "name": "#%%\n"
    }
   },
   "outputs": [
    {
     "data": {
      "text/html": [
       "<div>\n",
       "<style scoped>\n",
       "    .dataframe tbody tr th:only-of-type {\n",
       "        vertical-align: middle;\n",
       "    }\n",
       "\n",
       "    .dataframe tbody tr th {\n",
       "        vertical-align: top;\n",
       "    }\n",
       "\n",
       "    .dataframe thead th {\n",
       "        text-align: right;\n",
       "    }\n",
       "</style>\n",
       "<table border=\"1\" class=\"dataframe\">\n",
       "  <thead>\n",
       "    <tr style=\"text-align: right;\">\n",
       "      <th></th>\n",
       "      <th>country</th>\n",
       "      <th>continent</th>\n",
       "      <th>year</th>\n",
       "      <th>lifeExp</th>\n",
       "      <th>pop</th>\n",
       "      <th>gdpPercap</th>\n",
       "    </tr>\n",
       "  </thead>\n",
       "  <tbody>\n",
       "    <tr>\n",
       "      <th>249</th>\n",
       "      <td>Canada</td>\n",
       "      <td>Americas</td>\n",
       "      <td>1997</td>\n",
       "      <td>78.610</td>\n",
       "      <td>30305843</td>\n",
       "      <td>28954.925890</td>\n",
       "    </tr>\n",
       "    <tr>\n",
       "      <th>1300</th>\n",
       "      <td>Sao Tome and Principe</td>\n",
       "      <td>Africa</td>\n",
       "      <td>1972</td>\n",
       "      <td>56.480</td>\n",
       "      <td>76595</td>\n",
       "      <td>1532.985254</td>\n",
       "    </tr>\n",
       "    <tr>\n",
       "      <th>899</th>\n",
       "      <td>Liberia</td>\n",
       "      <td>Africa</td>\n",
       "      <td>2007</td>\n",
       "      <td>45.678</td>\n",
       "      <td>3193942</td>\n",
       "      <td>414.507341</td>\n",
       "    </tr>\n",
       "    <tr>\n",
       "      <th>395</th>\n",
       "      <td>Cuba</td>\n",
       "      <td>Americas</td>\n",
       "      <td>2007</td>\n",
       "      <td>78.273</td>\n",
       "      <td>11416987</td>\n",
       "      <td>8948.102923</td>\n",
       "    </tr>\n",
       "    <tr>\n",
       "      <th>347</th>\n",
       "      <td>Congo, Rep.</td>\n",
       "      <td>Africa</td>\n",
       "      <td>2007</td>\n",
       "      <td>55.322</td>\n",
       "      <td>3800610</td>\n",
       "      <td>3632.557798</td>\n",
       "    </tr>\n",
       "  </tbody>\n",
       "</table>\n",
       "</div>"
      ],
      "text/plain": [
       "                    country continent  year  lifeExp       pop     gdpPercap\n",
       "249                  Canada  Americas  1997   78.610  30305843  28954.925890\n",
       "1300  Sao Tome and Principe    Africa  1972   56.480     76595   1532.985254\n",
       "899                 Liberia    Africa  2007   45.678   3193942    414.507341\n",
       "395                    Cuba  Americas  2007   78.273  11416987   8948.102923\n",
       "347             Congo, Rep.    Africa  2007   55.322   3800610   3632.557798"
      ]
     },
     "execution_count": 45,
     "metadata": {},
     "output_type": "execute_result"
    }
   ],
   "source": [
    "gm.sample(5)"
   ]
  },
  {
   "cell_type": "code",
   "execution_count": 46,
   "id": "5d8701ea-7414-4ac3-a326-30f9dc6553b2",
   "metadata": {
    "id": "3lpx_gTBjw0Q",
    "pycharm": {
     "name": "#%%\n"
    }
   },
   "outputs": [
    {
     "data": {
      "text/html": [
       "<div>\n",
       "<style scoped>\n",
       "    .dataframe tbody tr th:only-of-type {\n",
       "        vertical-align: middle;\n",
       "    }\n",
       "\n",
       "    .dataframe tbody tr th {\n",
       "        vertical-align: top;\n",
       "    }\n",
       "\n",
       "    .dataframe thead th {\n",
       "        text-align: right;\n",
       "    }\n",
       "</style>\n",
       "<table border=\"1\" class=\"dataframe\">\n",
       "  <thead>\n",
       "    <tr style=\"text-align: right;\">\n",
       "      <th></th>\n",
       "      <th>country</th>\n",
       "      <th>continent</th>\n",
       "      <th>year</th>\n",
       "      <th>lifeExp</th>\n",
       "      <th>pop</th>\n",
       "      <th>gdpPercap</th>\n",
       "    </tr>\n",
       "  </thead>\n",
       "  <tbody>\n",
       "    <tr>\n",
       "      <th>1692</th>\n",
       "      <td>Zimbabwe</td>\n",
       "      <td>Africa</td>\n",
       "      <td>1952</td>\n",
       "      <td>48.451</td>\n",
       "      <td>3080907</td>\n",
       "      <td>406.884115</td>\n",
       "    </tr>\n",
       "    <tr>\n",
       "      <th>1693</th>\n",
       "      <td>Zimbabwe</td>\n",
       "      <td>Africa</td>\n",
       "      <td>1957</td>\n",
       "      <td>50.469</td>\n",
       "      <td>3646340</td>\n",
       "      <td>518.764268</td>\n",
       "    </tr>\n",
       "    <tr>\n",
       "      <th>1694</th>\n",
       "      <td>Zimbabwe</td>\n",
       "      <td>Africa</td>\n",
       "      <td>1962</td>\n",
       "      <td>52.358</td>\n",
       "      <td>4277736</td>\n",
       "      <td>527.272182</td>\n",
       "    </tr>\n",
       "    <tr>\n",
       "      <th>1695</th>\n",
       "      <td>Zimbabwe</td>\n",
       "      <td>Africa</td>\n",
       "      <td>1967</td>\n",
       "      <td>53.995</td>\n",
       "      <td>4995432</td>\n",
       "      <td>569.795071</td>\n",
       "    </tr>\n",
       "    <tr>\n",
       "      <th>1696</th>\n",
       "      <td>Zimbabwe</td>\n",
       "      <td>Africa</td>\n",
       "      <td>1972</td>\n",
       "      <td>55.635</td>\n",
       "      <td>5861135</td>\n",
       "      <td>799.362176</td>\n",
       "    </tr>\n",
       "    <tr>\n",
       "      <th>1697</th>\n",
       "      <td>Zimbabwe</td>\n",
       "      <td>Africa</td>\n",
       "      <td>1977</td>\n",
       "      <td>57.674</td>\n",
       "      <td>6642107</td>\n",
       "      <td>685.587682</td>\n",
       "    </tr>\n",
       "    <tr>\n",
       "      <th>1698</th>\n",
       "      <td>Zimbabwe</td>\n",
       "      <td>Africa</td>\n",
       "      <td>1982</td>\n",
       "      <td>60.363</td>\n",
       "      <td>7636524</td>\n",
       "      <td>788.855041</td>\n",
       "    </tr>\n",
       "    <tr>\n",
       "      <th>1699</th>\n",
       "      <td>Zimbabwe</td>\n",
       "      <td>Africa</td>\n",
       "      <td>1987</td>\n",
       "      <td>62.351</td>\n",
       "      <td>9216418</td>\n",
       "      <td>706.157306</td>\n",
       "    </tr>\n",
       "    <tr>\n",
       "      <th>1700</th>\n",
       "      <td>Zimbabwe</td>\n",
       "      <td>Africa</td>\n",
       "      <td>1992</td>\n",
       "      <td>60.377</td>\n",
       "      <td>10704340</td>\n",
       "      <td>693.420786</td>\n",
       "    </tr>\n",
       "    <tr>\n",
       "      <th>1701</th>\n",
       "      <td>Zimbabwe</td>\n",
       "      <td>Africa</td>\n",
       "      <td>1997</td>\n",
       "      <td>46.809</td>\n",
       "      <td>11404948</td>\n",
       "      <td>792.449960</td>\n",
       "    </tr>\n",
       "    <tr>\n",
       "      <th>1702</th>\n",
       "      <td>Zimbabwe</td>\n",
       "      <td>Africa</td>\n",
       "      <td>2002</td>\n",
       "      <td>39.989</td>\n",
       "      <td>11926563</td>\n",
       "      <td>672.038623</td>\n",
       "    </tr>\n",
       "    <tr>\n",
       "      <th>1703</th>\n",
       "      <td>Zimbabwe</td>\n",
       "      <td>Africa</td>\n",
       "      <td>2007</td>\n",
       "      <td>43.487</td>\n",
       "      <td>12311143</td>\n",
       "      <td>469.709298</td>\n",
       "    </tr>\n",
       "  </tbody>\n",
       "</table>\n",
       "</div>"
      ],
      "text/plain": [
       "       country continent  year  lifeExp       pop   gdpPercap\n",
       "1692  Zimbabwe    Africa  1952   48.451   3080907  406.884115\n",
       "1693  Zimbabwe    Africa  1957   50.469   3646340  518.764268\n",
       "1694  Zimbabwe    Africa  1962   52.358   4277736  527.272182\n",
       "1695  Zimbabwe    Africa  1967   53.995   4995432  569.795071\n",
       "1696  Zimbabwe    Africa  1972   55.635   5861135  799.362176\n",
       "1697  Zimbabwe    Africa  1977   57.674   6642107  685.587682\n",
       "1698  Zimbabwe    Africa  1982   60.363   7636524  788.855041\n",
       "1699  Zimbabwe    Africa  1987   62.351   9216418  706.157306\n",
       "1700  Zimbabwe    Africa  1992   60.377  10704340  693.420786\n",
       "1701  Zimbabwe    Africa  1997   46.809  11404948  792.449960\n",
       "1702  Zimbabwe    Africa  2002   39.989  11926563  672.038623\n",
       "1703  Zimbabwe    Africa  2007   43.487  12311143  469.709298"
      ]
     },
     "execution_count": 46,
     "metadata": {},
     "output_type": "execute_result"
    }
   ],
   "source": [
    "gm.tail(12)"
   ]
  },
  {
   "cell_type": "markdown",
   "id": "77f449ea-f212-4857-ace3-a8539f6f3248",
   "metadata": {
    "id": "1aI81hhjjw0Q",
    "pycharm": {
     "name": "#%% md\n"
    }
   },
   "source": [
    "**checkpoint**: say we would like to inspect the first 20 rows, and sample at least 10 observations from the dataset. Please write the corresponding code."
   ]
  },
  {
   "cell_type": "markdown",
   "id": "feef5242-bb1d-47cb-96a6-2909e72322ff",
   "metadata": {
    "pycharm": {
     "name": "#%% md\n"
    }
   },
   "source": [
    "### A Data Science Question\n",
    "\n",
    "* How does the data distribution of life expectancy varies over the \\~50 years of observations? Are there any clear trends or patterns? Anything unusual about the data?"
   ]
  },
  {
   "cell_type": "code",
   "execution_count": 47,
   "id": "3eee7ca0-dfa8-4c74-ad0d-cb4d785c39bd",
   "metadata": {
    "pycharm": {
     "name": "#%%\n"
    }
   },
   "outputs": [
    {
     "data": {
      "text/plain": [
       "1952    142\n",
       "1957    142\n",
       "1962    142\n",
       "1967    142\n",
       "1972    142\n",
       "1977    142\n",
       "1982    142\n",
       "1987    142\n",
       "1992    142\n",
       "1997    142\n",
       "2002    142\n",
       "2007    142\n",
       "Name: year, dtype: int64"
      ]
     },
     "execution_count": 47,
     "metadata": {},
     "output_type": "execute_result"
    }
   ],
   "source": [
    "# Could we obtain which years have observations been recorded for?\n",
    "gm['year'].value_counts()\n",
    "\n",
    "# What does the output tell us?"
   ]
  },
  {
   "cell_type": "markdown",
   "id": "cd92d352-19d6-4c0a-b9ae-9d9d9d675440",
   "metadata": {
    "pycharm": {
     "name": "#%% md\n"
    }
   },
   "source": [
    "* A series of boxplots on `Life Expectancy`, one for each `Year`, could tell us something about our original question?"
   ]
  },
  {
   "cell_type": "code",
   "execution_count": 48,
   "id": "a848e347-d1fc-4197-93ce-e7a9dc2ba4d6",
   "metadata": {
    "pycharm": {
     "name": "#%%\n"
    }
   },
   "outputs": [
    {
     "data": {
      "image/png": "[encoded data removed]",
      "image/svg+xml": [
       "<?xml version=\"1.0\" encoding=\"utf-8\" standalone=\"no\"?>\n",
       "<!DOCTYPE svg PUBLIC \"-//W3C//DTD SVG 1.1//EN\"\n",
       "  \"http://www.w3.org/Graphics/SVG/1.1/DTD/svg11.dtd\">\n",
       "<svg xmlns:xlink=\"http://www.w3.org/1999/xlink\" width=\"492.30625pt\" height=\"369.850625pt\" viewBox=\"0 0 492.30625 369.850625\" xmlns=\"http://www.w3.org/2000/svg\" version=\"1.1\">\n",
       " <metadata>\n",
       "  <rdf:RDF xmlns:dc=\"http://purl.org/dc/elements/1.1/\" xmlns:cc=\"http://creativecommons.org/ns#\" xmlns:rdf=\"http://www.w3.org/1999/02/22-rdf-syntax-ns#\">\n",
       "   <cc:Work>\n",
       "    <dc:type rdf:resource=\"http://purl.org/dc/dcmitype/StillImage\"/>\n",
       "    <dc:date>2022-10-05T00:30:28.778838</dc:date>\n",
       "    <dc:format>image/svg+xml</dc:format>\n",
       "    <dc:creator>\n",
       "     <cc:Agent>\n",
       "      <dc:title>Matplotlib v3.5.2, https://matplotlib.org/</dc:title>\n",
       "     </cc:Agent>\n",
       "    </dc:creator>\n",
       "   </cc:Work>\n",
       "  </rdf:RDF>\n",
       " </metadata>\n",
       " <defs>\n",
       "  <style type=\"text/css\">*{stroke-linejoin: round; stroke-linecap: butt}</style>\n",
       " </defs>\n",
       " <g id=\"figure_1\">\n",
       "  <g id=\"patch_1\">\n",
       "   <path d=\"M 0 369.850625 \n",
       "L 492.30625 369.850625 \n",
       "L 492.30625 0 \n",
       "L 0 0 \n",
       "z\n",
       "\" style=\"fill: #ffffff\"/>\n",
       "  </g>\n",
       "  <g id=\"axes_1\">\n",
       "   <g id=\"patch_2\">\n",
       "    <path d=\"M 38.70625 333.36 \n",
       "L 485.10625 333.36 \n",
       "L 485.10625 7.2 \n",
       "L 38.70625 7.2 \n",
       "z\n",
       "\" style=\"fill: #ffffff\"/>\n",
       "   </g>\n",
       "   <g id=\"matplotlib.axis_1\">\n",
       "    <g id=\"xtick_1\">\n",
       "     <g id=\"line2d_1\">\n",
       "      <defs>\n",
       "       <path id=\"mc44a2e83e9\" d=\"M 0 0 \n",
       "L 0 3.5 \n",
       "\" style=\"stroke: #262626; stroke-width: 0.8\"/>\n",
       "      </defs>\n",
       "      <g>\n",
       "       <use xlink:href=\"#mc44a2e83e9\" x=\"57.30625\" y=\"333.36\" style=\"fill: #262626; stroke: #262626; stroke-width: 0.8\"/>\n",
       "      </g>\n",
       "     </g>\n",
       "     <g id=\"text_1\">\n",
       "      <!-- 1952 -->\n",
       "      <g style=\"fill: #262626\" transform=\"translate(46.184375 347.517813)scale(0.1 -0.1)\">\n",
       "       <defs>\n",
       "        <path id=\"ArialMT-31\" d=\"M 2384 0 \n",
       "L 1822 0 \n",
       "L 1822 3584 \n",
       "Q 1619 3391 1289 3197 \n",
       "Q 959 3003 697 2906 \n",
       "L 697 3450 \n",
       "Q 1169 3672 1522 3987 \n",
       "Q 1875 4303 2022 4600 \n",
       "L 2384 4600 \n",
       "L 2384 0 \n",
       "z\n",
       "\" transform=\"scale(0.015625)\"/>\n",
       "        <path id=\"ArialMT-39\" d=\"M 350 1059 \n",
       "L 891 1109 \n",
       "Q 959 728 1153 556 \n",
       "Q 1347 384 1650 384 \n",
       "Q 1909 384 2104 503 \n",
       "Q 2300 622 2425 820 \n",
       "Q 2550 1019 2634 1356 \n",
       "Q 2719 1694 2719 2044 \n",
       "Q 2719 2081 2716 2156 \n",
       "Q 2547 1888 2255 1720 \n",
       "Q 1963 1553 1622 1553 \n",
       "Q 1053 1553 659 1965 \n",
       "Q 266 2378 266 3053 \n",
       "Q 266 3750 677 4175 \n",
       "Q 1088 4600 1706 4600 \n",
       "Q 2153 4600 2523 4359 \n",
       "Q 2894 4119 3086 3673 \n",
       "Q 3278 3228 3278 2384 \n",
       "Q 3278 1506 3087 986 \n",
       "Q 2897 466 2520 194 \n",
       "Q 2144 -78 1638 -78 \n",
       "Q 1100 -78 759 220 \n",
       "Q 419 519 350 1059 \n",
       "z\n",
       "M 2653 3081 \n",
       "Q 2653 3566 2395 3850 \n",
       "Q 2138 4134 1775 4134 \n",
       "Q 1400 4134 1122 3828 \n",
       "Q 844 3522 844 3034 \n",
       "Q 844 2597 1108 2323 \n",
       "Q 1372 2050 1759 2050 \n",
       "Q 2150 2050 2401 2323 \n",
       "Q 2653 2597 2653 3081 \n",
       "z\n",
       "\" transform=\"scale(0.015625)\"/>\n",
       "        <path id=\"ArialMT-35\" d=\"M 266 1200 \n",
       "L 856 1250 \n",
       "Q 922 819 1161 601 \n",
       "Q 1400 384 1738 384 \n",
       "Q 2144 384 2425 690 \n",
       "Q 2706 997 2706 1503 \n",
       "Q 2706 1984 2436 2262 \n",
       "Q 2166 2541 1728 2541 \n",
       "Q 1456 2541 1237 2417 \n",
       "Q 1019 2294 894 2097 \n",
       "L 366 2166 \n",
       "L 809 4519 \n",
       "L 3088 4519 \n",
       "L 3088 3981 \n",
       "L 1259 3981 \n",
       "L 1013 2750 \n",
       "Q 1425 3038 1878 3038 \n",
       "Q 2478 3038 2890 2622 \n",
       "Q 3303 2206 3303 1553 \n",
       "Q 3303 931 2941 478 \n",
       "Q 2500 -78 1738 -78 \n",
       "Q 1113 -78 717 272 \n",
       "Q 322 622 266 1200 \n",
       "z\n",
       "\" transform=\"scale(0.015625)\"/>\n",
       "        <path id=\"ArialMT-32\" d=\"M 3222 541 \n",
       "L 3222 0 \n",
       "L 194 0 \n",
       "Q 188 203 259 391 \n",
       "Q 375 700 629 1000 \n",
       "Q 884 1300 1366 1694 \n",
       "Q 2113 2306 2375 2664 \n",
       "Q 2638 3022 2638 3341 \n",
       "Q 2638 3675 2398 3904 \n",
       "Q 2159 4134 1775 4134 \n",
       "Q 1369 4134 1125 3890 \n",
       "Q 881 3647 878 3216 \n",
       "L 300 3275 \n",
       "Q 359 3922 746 4261 \n",
       "Q 1134 4600 1788 4600 \n",
       "Q 2447 4600 2831 4234 \n",
       "Q 3216 3869 3216 3328 \n",
       "Q 3216 3053 3103 2787 \n",
       "Q 2991 2522 2730 2228 \n",
       "Q 2469 1934 1863 1422 \n",
       "Q 1356 997 1212 845 \n",
       "Q 1069 694 975 541 \n",
       "L 3222 541 \n",
       "z\n",
       "\" transform=\"scale(0.015625)\"/>\n",
       "       </defs>\n",
       "       <use xlink:href=\"#ArialMT-31\"/>\n",
       "       <use xlink:href=\"#ArialMT-39\" x=\"55.615234\"/>\n",
       "       <use xlink:href=\"#ArialMT-35\" x=\"111.230469\"/>\n",
       "       <use xlink:href=\"#ArialMT-32\" x=\"166.845703\"/>\n",
       "      </g>\n",
       "     </g>\n",
       "    </g>\n",
       "    <g id=\"xtick_2\">\n",
       "     <g id=\"line2d_2\">\n",
       "      <g>\n",
       "       <use xlink:href=\"#mc44a2e83e9\" x=\"94.50625\" y=\"333.36\" style=\"fill: #262626; stroke: #262626; stroke-width: 0.8\"/>\n",
       "      </g>\n",
       "     </g>\n",
       "     <g id=\"text_2\">\n",
       "      <!-- 1957 -->\n",
       "      <g style=\"fill: #262626\" transform=\"translate(83.384375 347.517813)scale(0.1 -0.1)\">\n",
       "       <defs>\n",
       "        <path id=\"ArialMT-37\" d=\"M 303 3981 \n",
       "L 303 4522 \n",
       "L 3269 4522 \n",
       "L 3269 4084 \n",
       "Q 2831 3619 2401 2847 \n",
       "Q 1972 2075 1738 1259 \n",
       "Q 1569 684 1522 0 \n",
       "L 944 0 \n",
       "Q 953 541 1156 1306 \n",
       "Q 1359 2072 1739 2783 \n",
       "Q 2119 3494 2547 3981 \n",
       "L 303 3981 \n",
       "z\n",
       "\" transform=\"scale(0.015625)\"/>\n",
       "       </defs>\n",
       "       <use xlink:href=\"#ArialMT-31\"/>\n",
       "       <use xlink:href=\"#ArialMT-39\" x=\"55.615234\"/>\n",
       "       <use xlink:href=\"#ArialMT-35\" x=\"111.230469\"/>\n",
       "       <use xlink:href=\"#ArialMT-37\" x=\"166.845703\"/>\n",
       "      </g>\n",
       "     </g>\n",
       "    </g>\n",
       "    <g id=\"xtick_3\">\n",
       "     <g id=\"line2d_3\">\n",
       "      <g>\n",
       "       <use xlink:href=\"#mc44a2e83e9\" x=\"131.70625\" y=\"333.36\" style=\"fill: #262626; stroke: #262626; stroke-width: 0.8\"/>\n",
       "      </g>\n",
       "     </g>\n",
       "     <g id=\"text_3\">\n",
       "      <!-- 1962 -->\n",
       "      <g style=\"fill: #262626\" transform=\"translate(120.584375 347.517813)scale(0.1 -0.1)\">\n",
       "       <defs>\n",
       "        <path id=\"ArialMT-36\" d=\"M 3184 3459 \n",
       "L 2625 3416 \n",
       "Q 2550 3747 2413 3897 \n",
       "Q 2184 4138 1850 4138 \n",
       "Q 1581 4138 1378 3988 \n",
       "Q 1113 3794 959 3422 \n",
       "Q 806 3050 800 2363 \n",
       "Q 1003 2672 1297 2822 \n",
       "Q 1591 2972 1913 2972 \n",
       "Q 2475 2972 2870 2558 \n",
       "Q 3266 2144 3266 1488 \n",
       "Q 3266 1056 3080 686 \n",
       "Q 2894 316 2569 119 \n",
       "Q 2244 -78 1831 -78 \n",
       "Q 1128 -78 684 439 \n",
       "Q 241 956 241 2144 \n",
       "Q 241 3472 731 4075 \n",
       "Q 1159 4600 1884 4600 \n",
       "Q 2425 4600 2770 4297 \n",
       "Q 3116 3994 3184 3459 \n",
       "z\n",
       "M 888 1484 \n",
       "Q 888 1194 1011 928 \n",
       "Q 1134 663 1356 523 \n",
       "Q 1578 384 1822 384 \n",
       "Q 2178 384 2434 671 \n",
       "Q 2691 959 2691 1453 \n",
       "Q 2691 1928 2437 2201 \n",
       "Q 2184 2475 1800 2475 \n",
       "Q 1419 2475 1153 2201 \n",
       "Q 888 1928 888 1484 \n",
       "z\n",
       "\" transform=\"scale(0.015625)\"/>\n",
       "       </defs>\n",
       "       <use xlink:href=\"#ArialMT-31\"/>\n",
       "       <use xlink:href=\"#ArialMT-39\" x=\"55.615234\"/>\n",
       "       <use xlink:href=\"#ArialMT-36\" x=\"111.230469\"/>\n",
       "       <use xlink:href=\"#ArialMT-32\" x=\"166.845703\"/>\n",
       "      </g>\n",
       "     </g>\n",
       "    </g>\n",
       "    <g id=\"xtick_4\">\n",
       "     <g id=\"line2d_4\">\n",
       "      <g>\n",
       "       <use xlink:href=\"#mc44a2e83e9\" x=\"168.90625\" y=\"333.36\" style=\"fill: #262626; stroke: #262626; stroke-width: 0.8\"/>\n",
       "      </g>\n",
       "     </g>\n",
       "     <g id=\"text_4\">\n",
       "      <!-- 1967 -->\n",
       "      <g style=\"fill: #262626\" transform=\"translate(157.784375 347.517813)scale(0.1 -0.1)\">\n",
       "       <use xlink:href=\"#ArialMT-31\"/>\n",
       "       <use xlink:href=\"#ArialMT-39\" x=\"55.615234\"/>\n",
       "       <use xlink:href=\"#ArialMT-36\" x=\"111.230469\"/>\n",
       "       <use xlink:href=\"#ArialMT-37\" x=\"166.845703\"/>\n",
       "      </g>\n",
       "     </g>\n",
       "    </g>\n",
       "    <g id=\"xtick_5\">\n",
       "     <g id=\"line2d_5\">\n",
       "      <g>\n",
       "       <use xlink:href=\"#mc44a2e83e9\" x=\"206.10625\" y=\"333.36\" style=\"fill: #262626; stroke: #262626; stroke-width: 0.8\"/>\n",
       "      </g>\n",
       "     </g>\n",
       "     <g id=\"text_5\">\n",
       "      <!-- 1972 -->\n",
       "      <g style=\"fill: #262626\" transform=\"translate(194.984375 347.517813)scale(0.1 -0.1)\">\n",
       "       <use xlink:href=\"#ArialMT-31\"/>\n",
       "       <use xlink:href=\"#ArialMT-39\" x=\"55.615234\"/>\n",
       "       <use xlink:href=\"#ArialMT-37\" x=\"111.230469\"/>\n",
       "       <use xlink:href=\"#ArialMT-32\" x=\"166.845703\"/>\n",
       "      </g>\n",
       "     </g>\n",
       "    </g>\n",
       "    <g id=\"xtick_6\">\n",
       "     <g id=\"line2d_6\">\n",
       "      <g>\n",
       "       <use xlink:href=\"#mc44a2e83e9\" x=\"243.30625\" y=\"333.36\" style=\"fill: #262626; stroke: #262626; stroke-width: 0.8\"/>\n",
       "      </g>\n",
       "     </g>\n",
       "     <g id=\"text_6\">\n",
       "      <!-- 1977 -->\n",
       "      <g style=\"fill: #262626\" transform=\"translate(232.184375 347.517813)scale(0.1 -0.1)\">\n",
       "       <use xlink:href=\"#ArialMT-31\"/>\n",
       "       <use xlink:href=\"#ArialMT-39\" x=\"55.615234\"/>\n",
       "       <use xlink:href=\"#ArialMT-37\" x=\"111.230469\"/>\n",
       "       <use xlink:href=\"#ArialMT-37\" x=\"166.845703\"/>\n",
       "      </g>\n",
       "     </g>\n",
       "    </g>\n",
       "    <g id=\"xtick_7\">\n",
       "     <g id=\"line2d_7\">\n",
       "      <g>\n",
       "       <use xlink:href=\"#mc44a2e83e9\" x=\"280.50625\" y=\"333.36\" style=\"fill: #262626; stroke: #262626; stroke-width: 0.8\"/>\n",
       "      </g>\n",
       "     </g>\n",
       "     <g id=\"text_7\">\n",
       "      <!-- 1982 -->\n",
       "      <g style=\"fill: #262626\" transform=\"translate(269.384375 347.517813)scale(0.1 -0.1)\">\n",
       "       <defs>\n",
       "        <path id=\"ArialMT-38\" d=\"M 1131 2484 \n",
       "Q 781 2613 612 2850 \n",
       "Q 444 3088 444 3419 \n",
       "Q 444 3919 803 4259 \n",
       "Q 1163 4600 1759 4600 \n",
       "Q 2359 4600 2725 4251 \n",
       "Q 3091 3903 3091 3403 \n",
       "Q 3091 3084 2923 2848 \n",
       "Q 2756 2613 2416 2484 \n",
       "Q 2838 2347 3058 2040 \n",
       "Q 3278 1734 3278 1309 \n",
       "Q 3278 722 2862 322 \n",
       "Q 2447 -78 1769 -78 \n",
       "Q 1091 -78 675 323 \n",
       "Q 259 725 259 1325 \n",
       "Q 259 1772 486 2073 \n",
       "Q 713 2375 1131 2484 \n",
       "z\n",
       "M 1019 3438 \n",
       "Q 1019 3113 1228 2906 \n",
       "Q 1438 2700 1772 2700 \n",
       "Q 2097 2700 2305 2904 \n",
       "Q 2513 3109 2513 3406 \n",
       "Q 2513 3716 2298 3927 \n",
       "Q 2084 4138 1766 4138 \n",
       "Q 1444 4138 1231 3931 \n",
       "Q 1019 3725 1019 3438 \n",
       "z\n",
       "M 838 1322 \n",
       "Q 838 1081 952 856 \n",
       "Q 1066 631 1291 507 \n",
       "Q 1516 384 1775 384 \n",
       "Q 2178 384 2440 643 \n",
       "Q 2703 903 2703 1303 \n",
       "Q 2703 1709 2433 1975 \n",
       "Q 2163 2241 1756 2241 \n",
       "Q 1359 2241 1098 1978 \n",
       "Q 838 1716 838 1322 \n",
       "z\n",
       "\" transform=\"scale(0.015625)\"/>\n",
       "       </defs>\n",
       "       <use xlink:href=\"#ArialMT-31\"/>\n",
       "       <use xlink:href=\"#ArialMT-39\" x=\"55.615234\"/>\n",
       "       <use xlink:href=\"#ArialMT-38\" x=\"111.230469\"/>\n",
       "       <use xlink:href=\"#ArialMT-32\" x=\"166.845703\"/>\n",
       "      </g>\n",
       "     </g>\n",
       "    </g>\n",
       "    <g id=\"xtick_8\">\n",
       "     <g id=\"line2d_8\">\n",
       "      <g>\n",
       "       <use xlink:href=\"#mc44a2e83e9\" x=\"317.70625\" y=\"333.36\" style=\"fill: #262626; stroke: #262626; stroke-width: 0.8\"/>\n",
       "      </g>\n",
       "     </g>\n",
       "     <g id=\"text_8\">\n",
       "      <!-- 1987 -->\n",
       "      <g style=\"fill: #262626\" transform=\"translate(306.584375 347.517813)scale(0.1 -0.1)\">\n",
       "       <use xlink:href=\"#ArialMT-31\"/>\n",
       "       <use xlink:href=\"#ArialMT-39\" x=\"55.615234\"/>\n",
       "       <use xlink:href=\"#ArialMT-38\" x=\"111.230469\"/>\n",
       "       <use xlink:href=\"#ArialMT-37\" x=\"166.845703\"/>\n",
       "      </g>\n",
       "     </g>\n",
       "    </g>\n",
       "    <g id=\"xtick_9\">\n",
       "     <g id=\"line2d_9\">\n",
       "      <g>\n",
       "       <use xlink:href=\"#mc44a2e83e9\" x=\"354.90625\" y=\"333.36\" style=\"fill: #262626; stroke: #262626; stroke-width: 0.8\"/>\n",
       "      </g>\n",
       "     </g>\n",
       "     <g id=\"text_9\">\n",
       "      <!-- 1992 -->\n",
       "      <g style=\"fill: #262626\" transform=\"translate(343.784375 347.517813)scale(0.1 -0.1)\">\n",
       "       <use xlink:href=\"#ArialMT-31\"/>\n",
       "       <use xlink:href=\"#ArialMT-39\" x=\"55.615234\"/>\n",
       "       <use xlink:href=\"#ArialMT-39\" x=\"111.230469\"/>\n",
       "       <use xlink:href=\"#ArialMT-32\" x=\"166.845703\"/>\n",
       "      </g>\n",
       "     </g>\n",
       "    </g>\n",
       "    <g id=\"xtick_10\">\n",
       "     <g id=\"line2d_10\">\n",
       "      <g>\n",
       "       <use xlink:href=\"#mc44a2e83e9\" x=\"392.10625\" y=\"333.36\" style=\"fill: #262626; stroke: #262626; stroke-width: 0.8\"/>\n",
       "      </g>\n",
       "     </g>\n",
       "     <g id=\"text_10\">\n",
       "      <!-- 1997 -->\n",
       "      <g style=\"fill: #262626\" transform=\"translate(380.984375 347.517813)scale(0.1 -0.1)\">\n",
       "       <use xlink:href=\"#ArialMT-31\"/>\n",
       "       <use xlink:href=\"#ArialMT-39\" x=\"55.615234\"/>\n",
       "       <use xlink:href=\"#ArialMT-39\" x=\"111.230469\"/>\n",
       "       <use xlink:href=\"#ArialMT-37\" x=\"166.845703\"/>\n",
       "      </g>\n",
       "     </g>\n",
       "    </g>\n",
       "    <g id=\"xtick_11\">\n",
       "     <g id=\"line2d_11\">\n",
       "      <g>\n",
       "       <use xlink:href=\"#mc44a2e83e9\" x=\"429.30625\" y=\"333.36\" style=\"fill: #262626; stroke: #262626; stroke-width: 0.8\"/>\n",
       "      </g>\n",
       "     </g>\n",
       "     <g id=\"text_11\">\n",
       "      <!-- 2002 -->\n",
       "      <g style=\"fill: #262626\" transform=\"translate(418.184375 347.517813)scale(0.1 -0.1)\">\n",
       "       <defs>\n",
       "        <path id=\"ArialMT-30\" d=\"M 266 2259 \n",
       "Q 266 3072 433 3567 \n",
       "Q 600 4063 929 4331 \n",
       "Q 1259 4600 1759 4600 \n",
       "Q 2128 4600 2406 4451 \n",
       "Q 2684 4303 2865 4023 \n",
       "Q 3047 3744 3150 3342 \n",
       "Q 3253 2941 3253 2259 \n",
       "Q 3253 1453 3087 958 \n",
       "Q 2922 463 2592 192 \n",
       "Q 2263 -78 1759 -78 \n",
       "Q 1097 -78 719 397 \n",
       "Q 266 969 266 2259 \n",
       "z\n",
       "M 844 2259 \n",
       "Q 844 1131 1108 757 \n",
       "Q 1372 384 1759 384 \n",
       "Q 2147 384 2411 759 \n",
       "Q 2675 1134 2675 2259 \n",
       "Q 2675 3391 2411 3762 \n",
       "Q 2147 4134 1753 4134 \n",
       "Q 1366 4134 1134 3806 \n",
       "Q 844 3388 844 2259 \n",
       "z\n",
       "\" transform=\"scale(0.015625)\"/>\n",
       "       </defs>\n",
       "       <use xlink:href=\"#ArialMT-32\"/>\n",
       "       <use xlink:href=\"#ArialMT-30\" x=\"55.615234\"/>\n",
       "       <use xlink:href=\"#ArialMT-30\" x=\"111.230469\"/>\n",
       "       <use xlink:href=\"#ArialMT-32\" x=\"166.845703\"/>\n",
       "      </g>\n",
       "     </g>\n",
       "    </g>\n",
       "    <g id=\"xtick_12\">\n",
       "     <g id=\"line2d_12\">\n",
       "      <g>\n",
       "       <use xlink:href=\"#mc44a2e83e9\" x=\"466.50625\" y=\"333.36\" style=\"fill: #262626; stroke: #262626; stroke-width: 0.8\"/>\n",
       "      </g>\n",
       "     </g>\n",
       "     <g id=\"text_12\">\n",
       "      <!-- 2007 -->\n",
       "      <g style=\"fill: #262626\" transform=\"translate(455.384375 347.517813)scale(0.1 -0.1)\">\n",
       "       <use xlink:href=\"#ArialMT-32\"/>\n",
       "       <use xlink:href=\"#ArialMT-30\" x=\"55.615234\"/>\n",
       "       <use xlink:href=\"#ArialMT-30\" x=\"111.230469\"/>\n",
       "       <use xlink:href=\"#ArialMT-37\" x=\"166.845703\"/>\n",
       "      </g>\n",
       "     </g>\n",
       "    </g>\n",
       "    <g id=\"text_13\">\n",
       "     <!-- Year -->\n",
       "     <g style=\"fill: #262626\" transform=\"translate(251.801562 360.663125)scale(0.1 -0.1)\">\n",
       "      <defs>\n",
       "       <path id=\"ArialMT-59\" d=\"M 1784 0 \n",
       "L 1784 1941 \n",
       "L 19 4581 \n",
       "L 756 4581 \n",
       "L 1659 3200 \n",
       "Q 1909 2813 2125 2425 \n",
       "Q 2331 2784 2625 3234 \n",
       "L 3513 4581 \n",
       "L 4219 4581 \n",
       "L 2391 1941 \n",
       "L 2391 0 \n",
       "L 1784 0 \n",
       "z\n",
       "\" transform=\"scale(0.015625)\"/>\n",
       "       <path id=\"ArialMT-65\" d=\"M 2694 1069 \n",
       "L 3275 997 \n",
       "Q 3138 488 2766 206 \n",
       "Q 2394 -75 1816 -75 \n",
       "Q 1088 -75 661 373 \n",
       "Q 234 822 234 1631 \n",
       "Q 234 2469 665 2931 \n",
       "Q 1097 3394 1784 3394 \n",
       "Q 2450 3394 2872 2941 \n",
       "Q 3294 2488 3294 1666 \n",
       "Q 3294 1616 3291 1516 \n",
       "L 816 1516 \n",
       "Q 847 969 1125 678 \n",
       "Q 1403 388 1819 388 \n",
       "Q 2128 388 2347 550 \n",
       "Q 2566 713 2694 1069 \n",
       "z\n",
       "M 847 1978 \n",
       "L 2700 1978 \n",
       "Q 2663 2397 2488 2606 \n",
       "Q 2219 2931 1791 2931 \n",
       "Q 1403 2931 1139 2672 \n",
       "Q 875 2413 847 1978 \n",
       "z\n",
       "\" transform=\"scale(0.015625)\"/>\n",
       "       <path id=\"ArialMT-61\" d=\"M 2588 409 \n",
       "Q 2275 144 1986 34 \n",
       "Q 1697 -75 1366 -75 \n",
       "Q 819 -75 525 192 \n",
       "Q 231 459 231 875 \n",
       "Q 231 1119 342 1320 \n",
       "Q 453 1522 633 1644 \n",
       "Q 813 1766 1038 1828 \n",
       "Q 1203 1872 1538 1913 \n",
       "Q 2219 1994 2541 2106 \n",
       "Q 2544 2222 2544 2253 \n",
       "Q 2544 2597 2384 2738 \n",
       "Q 2169 2928 1744 2928 \n",
       "Q 1347 2928 1158 2789 \n",
       "Q 969 2650 878 2297 \n",
       "L 328 2372 \n",
       "Q 403 2725 575 2942 \n",
       "Q 747 3159 1072 3276 \n",
       "Q 1397 3394 1825 3394 \n",
       "Q 2250 3394 2515 3294 \n",
       "Q 2781 3194 2906 3042 \n",
       "Q 3031 2891 3081 2659 \n",
       "Q 3109 2516 3109 2141 \n",
       "L 3109 1391 \n",
       "Q 3109 606 3145 398 \n",
       "Q 3181 191 3288 0 \n",
       "L 2700 0 \n",
       "Q 2613 175 2588 409 \n",
       "z\n",
       "M 2541 1666 \n",
       "Q 2234 1541 1622 1453 \n",
       "Q 1275 1403 1131 1340 \n",
       "Q 988 1278 909 1158 \n",
       "Q 831 1038 831 891 \n",
       "Q 831 666 1001 516 \n",
       "Q 1172 366 1500 366 \n",
       "Q 1825 366 2078 508 \n",
       "Q 2331 650 2450 897 \n",
       "Q 2541 1088 2541 1459 \n",
       "L 2541 1666 \n",
       "z\n",
       "\" transform=\"scale(0.015625)\"/>\n",
       "       <path id=\"ArialMT-72\" d=\"M 416 0 \n",
       "L 416 3319 \n",
       "L 922 3319 \n",
       "L 922 2816 \n",
       "Q 1116 3169 1280 3281 \n",
       "Q 1444 3394 1641 3394 \n",
       "Q 1925 3394 2219 3213 \n",
       "L 2025 2691 \n",
       "Q 1819 2813 1613 2813 \n",
       "Q 1428 2813 1281 2702 \n",
       "Q 1134 2591 1072 2394 \n",
       "Q 978 2094 978 1738 \n",
       "L 978 0 \n",
       "L 416 0 \n",
       "z\n",
       "\" transform=\"scale(0.015625)\"/>\n",
       "      </defs>\n",
       "      <use xlink:href=\"#ArialMT-59\"/>\n",
       "      <use xlink:href=\"#ArialMT-65\" x=\"57.574219\"/>\n",
       "      <use xlink:href=\"#ArialMT-61\" x=\"113.189453\"/>\n",
       "      <use xlink:href=\"#ArialMT-72\" x=\"168.804688\"/>\n",
       "     </g>\n",
       "    </g>\n",
       "   </g>\n",
       "   <g id=\"matplotlib.axis_2\">\n",
       "    <g id=\"ytick_1\">\n",
       "     <g id=\"line2d_13\">\n",
       "      <defs>\n",
       "       <path id=\"mb8c7036b8f\" d=\"M 0 0 \n",
       "L -3.5 0 \n",
       "\" style=\"stroke: #262626; stroke-width: 0.8\"/>\n",
       "      </defs>\n",
       "      <g>\n",
       "       <use xlink:href=\"#mb8c7036b8f\" x=\"38.70625\" y=\"286.368003\" style=\"fill: #262626; stroke: #262626; stroke-width: 0.8\"/>\n",
       "      </g>\n",
       "     </g>\n",
       "     <g id=\"text_14\">\n",
       "      <!-- 30 -->\n",
       "      <g style=\"fill: #262626\" transform=\"translate(20.584375 289.946909)scale(0.1 -0.1)\">\n",
       "       <defs>\n",
       "        <path id=\"ArialMT-33\" d=\"M 269 1209 \n",
       "L 831 1284 \n",
       "Q 928 806 1161 595 \n",
       "Q 1394 384 1728 384 \n",
       "Q 2125 384 2398 659 \n",
       "Q 2672 934 2672 1341 \n",
       "Q 2672 1728 2419 1979 \n",
       "Q 2166 2231 1775 2231 \n",
       "Q 1616 2231 1378 2169 \n",
       "L 1441 2663 \n",
       "Q 1497 2656 1531 2656 \n",
       "Q 1891 2656 2178 2843 \n",
       "Q 2466 3031 2466 3422 \n",
       "Q 2466 3731 2256 3934 \n",
       "Q 2047 4138 1716 4138 \n",
       "Q 1388 4138 1169 3931 \n",
       "Q 950 3725 888 3313 \n",
       "L 325 3413 \n",
       "Q 428 3978 793 4289 \n",
       "Q 1159 4600 1703 4600 \n",
       "Q 2078 4600 2393 4439 \n",
       "Q 2709 4278 2876 4000 \n",
       "Q 3044 3722 3044 3409 \n",
       "Q 3044 3113 2884 2869 \n",
       "Q 2725 2625 2413 2481 \n",
       "Q 2819 2388 3044 2092 \n",
       "Q 3269 1797 3269 1353 \n",
       "Q 3269 753 2831 336 \n",
       "Q 2394 -81 1725 -81 \n",
       "Q 1122 -81 723 278 \n",
       "Q 325 638 269 1209 \n",
       "z\n",
       "\" transform=\"scale(0.015625)\"/>\n",
       "       </defs>\n",
       "       <use xlink:href=\"#ArialMT-33\"/>\n",
       "       <use xlink:href=\"#ArialMT-30\" x=\"55.615234\"/>\n",
       "      </g>\n",
       "     </g>\n",
       "    </g>\n",
       "    <g id=\"ytick_2\">\n",
       "     <g id=\"line2d_14\">\n",
       "      <g>\n",
       "       <use xlink:href=\"#mb8c7036b8f\" x=\"38.70625\" y=\"236.115631\" style=\"fill: #262626; stroke: #262626; stroke-width: 0.8\"/>\n",
       "      </g>\n",
       "     </g>\n",
       "     <g id=\"text_15\">\n",
       "      <!-- 40 -->\n",
       "      <g style=\"fill: #262626\" transform=\"translate(20.584375 239.694538)scale(0.1 -0.1)\">\n",
       "       <defs>\n",
       "        <path id=\"ArialMT-34\" d=\"M 2069 0 \n",
       "L 2069 1097 \n",
       "L 81 1097 \n",
       "L 81 1613 \n",
       "L 2172 4581 \n",
       "L 2631 4581 \n",
       "L 2631 1613 \n",
       "L 3250 1613 \n",
       "L 3250 1097 \n",
       "L 2631 1097 \n",
       "L 2631 0 \n",
       "L 2069 0 \n",
       "z\n",
       "M 2069 1613 \n",
       "L 2069 3678 \n",
       "L 634 1613 \n",
       "L 2069 1613 \n",
       "z\n",
       "\" transform=\"scale(0.015625)\"/>\n",
       "       </defs>\n",
       "       <use xlink:href=\"#ArialMT-34\"/>\n",
       "       <use xlink:href=\"#ArialMT-30\" x=\"55.615234\"/>\n",
       "      </g>\n",
       "     </g>\n",
       "    </g>\n",
       "    <g id=\"ytick_3\">\n",
       "     <g id=\"line2d_15\">\n",
       "      <g>\n",
       "       <use xlink:href=\"#mb8c7036b8f\" x=\"38.70625\" y=\"185.86326\" style=\"fill: #262626; stroke: #262626; stroke-width: 0.8\"/>\n",
       "      </g>\n",
       "     </g>\n",
       "     <g id=\"text_16\">\n",
       "      <!-- 50 -->\n",
       "      <g style=\"fill: #262626\" transform=\"translate(20.584375 189.442167)scale(0.1 -0.1)\">\n",
       "       <use xlink:href=\"#ArialMT-35\"/>\n",
       "       <use xlink:href=\"#ArialMT-30\" x=\"55.615234\"/>\n",
       "      </g>\n",
       "     </g>\n",
       "    </g>\n",
       "    <g id=\"ytick_4\">\n",
       "     <g id=\"line2d_16\">\n",
       "      <g>\n",
       "       <use xlink:href=\"#mb8c7036b8f\" x=\"38.70625\" y=\"135.610889\" style=\"fill: #262626; stroke: #262626; stroke-width: 0.8\"/>\n",
       "      </g>\n",
       "     </g>\n",
       "     <g id=\"text_17\">\n",
       "      <!-- 60 -->\n",
       "      <g style=\"fill: #262626\" transform=\"translate(20.584375 139.189795)scale(0.1 -0.1)\">\n",
       "       <use xlink:href=\"#ArialMT-36\"/>\n",
       "       <use xlink:href=\"#ArialMT-30\" x=\"55.615234\"/>\n",
       "      </g>\n",
       "     </g>\n",
       "    </g>\n",
       "    <g id=\"ytick_5\">\n",
       "     <g id=\"line2d_17\">\n",
       "      <g>\n",
       "       <use xlink:href=\"#mb8c7036b8f\" x=\"38.70625\" y=\"85.358518\" style=\"fill: #262626; stroke: #262626; stroke-width: 0.8\"/>\n",
       "      </g>\n",
       "     </g>\n",
       "     <g id=\"text_18\">\n",
       "      <!-- 70 -->\n",
       "      <g style=\"fill: #262626\" transform=\"translate(20.584375 88.937424)scale(0.1 -0.1)\">\n",
       "       <use xlink:href=\"#ArialMT-37\"/>\n",
       "       <use xlink:href=\"#ArialMT-30\" x=\"55.615234\"/>\n",
       "      </g>\n",
       "     </g>\n",
       "    </g>\n",
       "    <g id=\"ytick_6\">\n",
       "     <g id=\"line2d_18\">\n",
       "      <g>\n",
       "       <use xlink:href=\"#mb8c7036b8f\" x=\"38.70625\" y=\"35.106147\" style=\"fill: #262626; stroke: #262626; stroke-width: 0.8\"/>\n",
       "      </g>\n",
       "     </g>\n",
       "     <g id=\"text_19\">\n",
       "      <!-- 80 -->\n",
       "      <g style=\"fill: #262626\" transform=\"translate(20.584375 38.685053)scale(0.1 -0.1)\">\n",
       "       <use xlink:href=\"#ArialMT-38\"/>\n",
       "       <use xlink:href=\"#ArialMT-30\" x=\"55.615234\"/>\n",
       "      </g>\n",
       "     </g>\n",
       "    </g>\n",
       "    <g id=\"text_20\">\n",
       "     <!-- Life Expectancy -->\n",
       "     <g style=\"fill: #262626\" transform=\"translate(14.479688 205.576094)rotate(-90)scale(0.1 -0.1)\">\n",
       "      <defs>\n",
       "       <path id=\"ArialMT-4c\" d=\"M 469 0 \n",
       "L 469 4581 \n",
       "L 1075 4581 \n",
       "L 1075 541 \n",
       "L 3331 541 \n",
       "L 3331 0 \n",
       "L 469 0 \n",
       "z\n",
       "\" transform=\"scale(0.015625)\"/>\n",
       "       <path id=\"ArialMT-69\" d=\"M 425 3934 \n",
       "L 425 4581 \n",
       "L 988 4581 \n",
       "L 988 3934 \n",
       "L 425 3934 \n",
       "z\n",
       "M 425 0 \n",
       "L 425 3319 \n",
       "L 988 3319 \n",
       "L 988 0 \n",
       "L 425 0 \n",
       "z\n",
       "\" transform=\"scale(0.015625)\"/>\n",
       "       <path id=\"ArialMT-66\" d=\"M 556 0 \n",
       "L 556 2881 \n",
       "L 59 2881 \n",
       "L 59 3319 \n",
       "L 556 3319 \n",
       "L 556 3672 \n",
       "Q 556 4006 616 4169 \n",
       "Q 697 4388 901 4523 \n",
       "Q 1106 4659 1475 4659 \n",
       "Q 1713 4659 2000 4603 \n",
       "L 1916 4113 \n",
       "Q 1741 4144 1584 4144 \n",
       "Q 1328 4144 1222 4034 \n",
       "Q 1116 3925 1116 3625 \n",
       "L 1116 3319 \n",
       "L 1763 3319 \n",
       "L 1763 2881 \n",
       "L 1116 2881 \n",
       "L 1116 0 \n",
       "L 556 0 \n",
       "z\n",
       "\" transform=\"scale(0.015625)\"/>\n",
       "       <path id=\"ArialMT-20\" transform=\"scale(0.015625)\"/>\n",
       "       <path id=\"ArialMT-45\" d=\"M 506 0 \n",
       "L 506 4581 \n",
       "L 3819 4581 \n",
       "L 3819 4041 \n",
       "L 1113 4041 \n",
       "L 1113 2638 \n",
       "L 3647 2638 \n",
       "L 3647 2100 \n",
       "L 1113 2100 \n",
       "L 1113 541 \n",
       "L 3925 541 \n",
       "L 3925 0 \n",
       "L 506 0 \n",
       "z\n",
       "\" transform=\"scale(0.015625)\"/>\n",
       "       <path id=\"ArialMT-78\" d=\"M 47 0 \n",
       "L 1259 1725 \n",
       "L 138 3319 \n",
       "L 841 3319 \n",
       "L 1350 2541 \n",
       "Q 1494 2319 1581 2169 \n",
       "Q 1719 2375 1834 2534 \n",
       "L 2394 3319 \n",
       "L 3066 3319 \n",
       "L 1919 1756 \n",
       "L 3153 0 \n",
       "L 2463 0 \n",
       "L 1781 1031 \n",
       "L 1600 1309 \n",
       "L 728 0 \n",
       "L 47 0 \n",
       "z\n",
       "\" transform=\"scale(0.015625)\"/>\n",
       "       <path id=\"ArialMT-70\" d=\"M 422 -1272 \n",
       "L 422 3319 \n",
       "L 934 3319 \n",
       "L 934 2888 \n",
       "Q 1116 3141 1344 3267 \n",
       "Q 1572 3394 1897 3394 \n",
       "Q 2322 3394 2647 3175 \n",
       "Q 2972 2956 3137 2557 \n",
       "Q 3303 2159 3303 1684 \n",
       "Q 3303 1175 3120 767 \n",
       "Q 2938 359 2589 142 \n",
       "Q 2241 -75 1856 -75 \n",
       "Q 1575 -75 1351 44 \n",
       "Q 1128 163 984 344 \n",
       "L 984 -1272 \n",
       "L 422 -1272 \n",
       "z\n",
       "M 931 1641 \n",
       "Q 931 1000 1190 694 \n",
       "Q 1450 388 1819 388 \n",
       "Q 2194 388 2461 705 \n",
       "Q 2728 1022 2728 1688 \n",
       "Q 2728 2322 2467 2637 \n",
       "Q 2206 2953 1844 2953 \n",
       "Q 1484 2953 1207 2617 \n",
       "Q 931 2281 931 1641 \n",
       "z\n",
       "\" transform=\"scale(0.015625)\"/>\n",
       "       <path id=\"ArialMT-63\" d=\"M 2588 1216 \n",
       "L 3141 1144 \n",
       "Q 3050 572 2676 248 \n",
       "Q 2303 -75 1759 -75 \n",
       "Q 1078 -75 664 370 \n",
       "Q 250 816 250 1647 \n",
       "Q 250 2184 428 2587 \n",
       "Q 606 2991 970 3192 \n",
       "Q 1334 3394 1763 3394 \n",
       "Q 2303 3394 2647 3120 \n",
       "Q 2991 2847 3088 2344 \n",
       "L 2541 2259 \n",
       "Q 2463 2594 2264 2762 \n",
       "Q 2066 2931 1784 2931 \n",
       "Q 1359 2931 1093 2626 \n",
       "Q 828 2322 828 1663 \n",
       "Q 828 994 1084 691 \n",
       "Q 1341 388 1753 388 \n",
       "Q 2084 388 2306 591 \n",
       "Q 2528 794 2588 1216 \n",
       "z\n",
       "\" transform=\"scale(0.015625)\"/>\n",
       "       <path id=\"ArialMT-74\" d=\"M 1650 503 \n",
       "L 1731 6 \n",
       "Q 1494 -44 1306 -44 \n",
       "Q 1000 -44 831 53 \n",
       "Q 663 150 594 308 \n",
       "Q 525 466 525 972 \n",
       "L 525 2881 \n",
       "L 113 2881 \n",
       "L 113 3319 \n",
       "L 525 3319 \n",
       "L 525 4141 \n",
       "L 1084 4478 \n",
       "L 1084 3319 \n",
       "L 1650 3319 \n",
       "L 1650 2881 \n",
       "L 1084 2881 \n",
       "L 1084 941 \n",
       "Q 1084 700 1114 631 \n",
       "Q 1144 563 1211 522 \n",
       "Q 1278 481 1403 481 \n",
       "Q 1497 481 1650 503 \n",
       "z\n",
       "\" transform=\"scale(0.015625)\"/>\n",
       "       <path id=\"ArialMT-6e\" d=\"M 422 0 \n",
       "L 422 3319 \n",
       "L 928 3319 \n",
       "L 928 2847 \n",
       "Q 1294 3394 1984 3394 \n",
       "Q 2284 3394 2536 3286 \n",
       "Q 2788 3178 2913 3003 \n",
       "Q 3038 2828 3088 2588 \n",
       "Q 3119 2431 3119 2041 \n",
       "L 3119 0 \n",
       "L 2556 0 \n",
       "L 2556 2019 \n",
       "Q 2556 2363 2490 2533 \n",
       "Q 2425 2703 2258 2804 \n",
       "Q 2091 2906 1866 2906 \n",
       "Q 1506 2906 1245 2678 \n",
       "Q 984 2450 984 1813 \n",
       "L 984 0 \n",
       "L 422 0 \n",
       "z\n",
       "\" transform=\"scale(0.015625)\"/>\n",
       "       <path id=\"ArialMT-79\" d=\"M 397 -1278 \n",
       "L 334 -750 \n",
       "Q 519 -800 656 -800 \n",
       "Q 844 -800 956 -737 \n",
       "Q 1069 -675 1141 -563 \n",
       "Q 1194 -478 1313 -144 \n",
       "Q 1328 -97 1363 -6 \n",
       "L 103 3319 \n",
       "L 709 3319 \n",
       "L 1400 1397 \n",
       "Q 1534 1031 1641 628 \n",
       "Q 1738 1016 1872 1384 \n",
       "L 2581 3319 \n",
       "L 3144 3319 \n",
       "L 1881 -56 \n",
       "Q 1678 -603 1566 -809 \n",
       "Q 1416 -1088 1222 -1217 \n",
       "Q 1028 -1347 759 -1347 \n",
       "Q 597 -1347 397 -1278 \n",
       "z\n",
       "\" transform=\"scale(0.015625)\"/>\n",
       "      </defs>\n",
       "      <use xlink:href=\"#ArialMT-4c\"/>\n",
       "      <use xlink:href=\"#ArialMT-69\" x=\"55.615234\"/>\n",
       "      <use xlink:href=\"#ArialMT-66\" x=\"77.832031\"/>\n",
       "      <use xlink:href=\"#ArialMT-65\" x=\"105.615234\"/>\n",
       "      <use xlink:href=\"#ArialMT-20\" x=\"161.230469\"/>\n",
       "      <use xlink:href=\"#ArialMT-45\" x=\"189.013672\"/>\n",
       "      <use xlink:href=\"#ArialMT-78\" x=\"255.712891\"/>\n",
       "      <use xlink:href=\"#ArialMT-70\" x=\"305.712891\"/>\n",
       "      <use xlink:href=\"#ArialMT-65\" x=\"361.328125\"/>\n",
       "      <use xlink:href=\"#ArialMT-63\" x=\"416.943359\"/>\n",
       "      <use xlink:href=\"#ArialMT-74\" x=\"466.943359\"/>\n",
       "      <use xlink:href=\"#ArialMT-61\" x=\"494.726562\"/>\n",
       "      <use xlink:href=\"#ArialMT-6e\" x=\"550.341797\"/>\n",
       "      <use xlink:href=\"#ArialMT-63\" x=\"605.957031\"/>\n",
       "      <use xlink:href=\"#ArialMT-79\" x=\"655.957031\"/>\n",
       "     </g>\n",
       "    </g>\n",
       "   </g>\n",
       "   <g id=\"patch_3\">\n",
       "    <path d=\"M 42.42625 240.84438 \n",
       "L 72.18625 240.84438 \n",
       "L 72.18625 136.79182 \n",
       "L 42.42625 136.79182 \n",
       "L 42.42625 240.84438 \n",
       "z\n",
       "\" clip-path=\"url(#p871978b100)\" style=\"fill: #ea96a3; stroke: #464646; stroke-width: 1.5; stroke-linejoin: miter\"/>\n",
       "   </g>\n",
       "   <g id=\"patch_4\">\n",
       "    <path d=\"M 79.62625 229.846648 \n",
       "L 109.38625 229.846648 \n",
       "L 109.38625 120.3505 \n",
       "L 79.62625 120.3505 \n",
       "L 79.62625 229.846648 \n",
       "z\n",
       "\" clip-path=\"url(#p871978b100)\" style=\"fill: #e19153; stroke: #464646; stroke-width: 1.5; stroke-linejoin: miter\"/>\n",
       "   </g>\n",
       "   <g id=\"patch_5\">\n",
       "    <path d=\"M 116.82625 218.685597 \n",
       "L 146.58625 218.685597 \n",
       "L 146.58625 109.306285 \n",
       "L 116.82625 109.306285 \n",
       "L 116.82625 218.685597 \n",
       "z\n",
       "\" clip-path=\"url(#p871978b100)\" style=\"fill: #b89c49; stroke: #464646; stroke-width: 1.5; stroke-linejoin: miter\"/>\n",
       "   </g>\n",
       "   <g id=\"patch_6\">\n",
       "    <path d=\"M 154.02625 205.794607 \n",
       "L 183.78625 205.794607 \n",
       "L 183.78625 98.326142 \n",
       "L 154.02625 98.326142 \n",
       "L 154.02625 205.794607 \n",
       "z\n",
       "\" clip-path=\"url(#p871978b100)\" style=\"fill: #98a246; stroke: #464646; stroke-width: 1.5; stroke-linejoin: miter\"/>\n",
       "   </g>\n",
       "   <g id=\"patch_7\">\n",
       "    <path d=\"M 191.22625 193.39986 \n",
       "L 220.98625 193.39986 \n",
       "L 220.98625 89.140009 \n",
       "L 191.22625 89.140009 \n",
       "L 191.22625 193.39986 \n",
       "z\n",
       "\" clip-path=\"url(#p871978b100)\" style=\"fill: #60ae47; stroke: #464646; stroke-width: 1.5; stroke-linejoin: miter\"/>\n",
       "   </g>\n",
       "   <g id=\"patch_8\">\n",
       "    <path d=\"M 228.42625 183.47376 \n",
       "L 258.18625 183.47376 \n",
       "L 258.18625 83.436365 \n",
       "L 228.42625 83.436365 \n",
       "L 228.42625 183.47376 \n",
       "z\n",
       "\" clip-path=\"url(#p871978b100)\" style=\"fill: #4aae8a; stroke: #464646; stroke-width: 1.5; stroke-linejoin: miter\"/>\n",
       "   </g>\n",
       "   <g id=\"patch_9\">\n",
       "    <path d=\"M 265.62625 171.089063 \n",
       "L 295.38625 171.089063 \n",
       "L 295.38625 80.729018 \n",
       "L 265.62625 80.729018 \n",
       "L 265.62625 171.089063 \n",
       "z\n",
       "\" clip-path=\"url(#p871978b100)\" style=\"fill: #4baba4; stroke: #464646; stroke-width: 1.5; stroke-linejoin: miter\"/>\n",
       "   </g>\n",
       "   <g id=\"patch_10\">\n",
       "    <path d=\"M 302.82625 161.03482 \n",
       "L 332.58625 161.03482 \n",
       "L 332.58625 75.924892 \n",
       "L 302.82625 75.924892 \n",
       "L 302.82625 161.03482 \n",
       "z\n",
       "\" clip-path=\"url(#p871978b100)\" style=\"fill: #4fabbc; stroke: #464646; stroke-width: 1.5; stroke-linejoin: miter\"/>\n",
       "   </g>\n",
       "   <g id=\"patch_11\">\n",
       "    <path d=\"M 340.02625 155.100015 \n",
       "L 369.78625 155.100015 \n",
       "L 369.78625 72.380843 \n",
       "L 340.02625 72.380843 \n",
       "L 340.02625 155.100015 \n",
       "z\n",
       "\" clip-path=\"url(#p871978b100)\" style=\"fill: #6daee2; stroke: #464646; stroke-width: 1.5; stroke-linejoin: miter\"/>\n",
       "   </g>\n",
       "   <g id=\"patch_12\">\n",
       "    <path d=\"M 377.22625 157.552331 \n",
       "L 406.98625 157.552331 \n",
       "L 406.98625 64.404535 \n",
       "L 377.22625 64.404535 \n",
       "L 377.22625 157.552331 \n",
       "z\n",
       "\" clip-path=\"url(#p871978b100)\" style=\"fill: #b6a8eb; stroke: #464646; stroke-width: 1.5; stroke-linejoin: miter\"/>\n",
       "   </g>\n",
       "   <g id=\"patch_13\">\n",
       "    <path d=\"M 414.42625 158.112645 \n",
       "L 444.18625 158.112645 \n",
       "L 444.18625 57.924492 \n",
       "L 414.42625 57.924492 \n",
       "L 414.42625 158.112645 \n",
       "z\n",
       "\" clip-path=\"url(#p871978b100)\" style=\"fill: #df8fe7; stroke: #464646; stroke-width: 1.5; stroke-linejoin: miter\"/>\n",
       "   </g>\n",
       "   <g id=\"patch_14\">\n",
       "    <path d=\"M 451.62625 149.881306 \n",
       "L 481.38625 149.881306 \n",
       "L 481.38625 53.130416 \n",
       "L 451.62625 53.130416 \n",
       "L 451.62625 149.881306 \n",
       "z\n",
       "\" clip-path=\"url(#p871978b100)\" style=\"fill: #e890c6; stroke: #464646; stroke-width: 1.5; stroke-linejoin: miter\"/>\n",
       "   </g>\n",
       "   <g id=\"line2d_19\">\n",
       "    <path d=\"M 57.30625 240.84438 \n",
       "L 57.30625 292.393262 \n",
       "\" clip-path=\"url(#p871978b100)\" style=\"fill: none; stroke: #464646; stroke-width: 1.5; stroke-linecap: round\"/>\n",
       "   </g>\n",
       "   <g id=\"line2d_20\">\n",
       "    <path d=\"M 57.30625 136.79182 \n",
       "L 57.30625 71.941135 \n",
       "\" clip-path=\"url(#p871978b100)\" style=\"fill: none; stroke: #464646; stroke-width: 1.5; stroke-linecap: round\"/>\n",
       "   </g>\n",
       "   <g id=\"line2d_21\">\n",
       "    <path d=\"M 49.86625 292.393262 \n",
       "L 64.74625 292.393262 \n",
       "\" clip-path=\"url(#p871978b100)\" style=\"fill: none; stroke: #464646; stroke-width: 1.5; stroke-linecap: round\"/>\n",
       "   </g>\n",
       "   <g id=\"line2d_22\">\n",
       "    <path d=\"M 49.86625 71.941135 \n",
       "L 64.74625 71.941135 \n",
       "\" clip-path=\"url(#p871978b100)\" style=\"fill: none; stroke: #464646; stroke-width: 1.5; stroke-linecap: round\"/>\n",
       "   </g>\n",
       "   <g id=\"line2d_23\"/>\n",
       "   <g id=\"line2d_24\">\n",
       "    <path d=\"M 94.50625 229.846648 \n",
       "L 94.50625 284.699624 \n",
       "\" clip-path=\"url(#p871978b100)\" style=\"fill: none; stroke: #464646; stroke-width: 1.5; stroke-linecap: round\"/>\n",
       "   </g>\n",
       "   <g id=\"line2d_25\">\n",
       "    <path d=\"M 94.50625 120.3505 \n",
       "L 94.50625 67.920945 \n",
       "\" clip-path=\"url(#p871978b100)\" style=\"fill: none; stroke: #464646; stroke-width: 1.5; stroke-linecap: round\"/>\n",
       "   </g>\n",
       "   <g id=\"line2d_26\">\n",
       "    <path d=\"M 87.06625 284.699624 \n",
       "L 101.94625 284.699624 \n",
       "\" clip-path=\"url(#p871978b100)\" style=\"fill: none; stroke: #464646; stroke-width: 1.5; stroke-linecap: round\"/>\n",
       "   </g>\n",
       "   <g id=\"line2d_27\">\n",
       "    <path d=\"M 87.06625 67.920945 \n",
       "L 101.94625 67.920945 \n",
       "\" clip-path=\"url(#p871978b100)\" style=\"fill: none; stroke: #464646; stroke-width: 1.5; stroke-linecap: round\"/>\n",
       "   </g>\n",
       "   <g id=\"line2d_28\"/>\n",
       "   <g id=\"line2d_29\">\n",
       "    <path d=\"M 131.70625 218.685597 \n",
       "L 131.70625 276.332604 \n",
       "\" clip-path=\"url(#p871978b100)\" style=\"fill: none; stroke: #464646; stroke-width: 1.5; stroke-linecap: round\"/>\n",
       "   </g>\n",
       "   <g id=\"line2d_30\">\n",
       "    <path d=\"M 131.70625 109.306285 \n",
       "L 131.70625 66.865645 \n",
       "\" clip-path=\"url(#p871978b100)\" style=\"fill: none; stroke: #464646; stroke-width: 1.5; stroke-linecap: round\"/>\n",
       "   </g>\n",
       "   <g id=\"line2d_31\">\n",
       "    <path d=\"M 124.26625 276.332604 \n",
       "L 139.14625 276.332604 \n",
       "\" clip-path=\"url(#p871978b100)\" style=\"fill: none; stroke: #464646; stroke-width: 1.5; stroke-linecap: round\"/>\n",
       "   </g>\n",
       "   <g id=\"line2d_32\">\n",
       "    <path d=\"M 124.26625 66.865645 \n",
       "L 139.14625 66.865645 \n",
       "\" clip-path=\"url(#p871978b100)\" style=\"fill: none; stroke: #464646; stroke-width: 1.5; stroke-linecap: round\"/>\n",
       "   </g>\n",
       "   <g id=\"line2d_33\"/>\n",
       "   <g id=\"line2d_34\">\n",
       "    <path d=\"M 168.90625 205.794607 \n",
       "L 168.90625 266.166549 \n",
       "\" clip-path=\"url(#p871978b100)\" style=\"fill: none; stroke: #464646; stroke-width: 1.5; stroke-linecap: round\"/>\n",
       "   </g>\n",
       "   <g id=\"line2d_35\">\n",
       "    <path d=\"M 168.90625 98.326142 \n",
       "L 168.90625 64.453532 \n",
       "\" clip-path=\"url(#p871978b100)\" style=\"fill: none; stroke: #464646; stroke-width: 1.5; stroke-linecap: round\"/>\n",
       "   </g>\n",
       "   <g id=\"line2d_36\">\n",
       "    <path d=\"M 161.46625 266.166549 \n",
       "L 176.34625 266.166549 \n",
       "\" clip-path=\"url(#p871978b100)\" style=\"fill: none; stroke: #464646; stroke-width: 1.5; stroke-linecap: round\"/>\n",
       "   </g>\n",
       "   <g id=\"line2d_37\">\n",
       "    <path d=\"M 161.46625 64.453532 \n",
       "L 176.34625 64.453532 \n",
       "\" clip-path=\"url(#p871978b100)\" style=\"fill: none; stroke: #464646; stroke-width: 1.5; stroke-linecap: round\"/>\n",
       "   </g>\n",
       "   <g id=\"line2d_38\"/>\n",
       "   <g id=\"line2d_39\">\n",
       "    <path d=\"M 206.10625 193.39986 \n",
       "L 206.10625 259.231722 \n",
       "\" clip-path=\"url(#p871978b100)\" style=\"fill: none; stroke: #464646; stroke-width: 1.5; stroke-linecap: round\"/>\n",
       "   </g>\n",
       "   <g id=\"line2d_40\">\n",
       "    <path d=\"M 206.10625 89.140009 \n",
       "L 206.10625 61.639399 \n",
       "\" clip-path=\"url(#p871978b100)\" style=\"fill: none; stroke: #464646; stroke-width: 1.5; stroke-linecap: round\"/>\n",
       "   </g>\n",
       "   <g id=\"line2d_41\">\n",
       "    <path d=\"M 198.66625 259.231722 \n",
       "L 213.54625 259.231722 \n",
       "\" clip-path=\"url(#p871978b100)\" style=\"fill: none; stroke: #464646; stroke-width: 1.5; stroke-linecap: round\"/>\n",
       "   </g>\n",
       "   <g id=\"line2d_42\">\n",
       "    <path d=\"M 198.66625 61.639399 \n",
       "L 213.54625 61.639399 \n",
       "\" clip-path=\"url(#p871978b100)\" style=\"fill: none; stroke: #464646; stroke-width: 1.5; stroke-linecap: round\"/>\n",
       "   </g>\n",
       "   <g id=\"line2d_43\"/>\n",
       "   <g id=\"line2d_44\">\n",
       "    <path d=\"M 243.30625 183.47376 \n",
       "L 243.30625 280.237213 \n",
       "\" clip-path=\"url(#p871978b100)\" style=\"fill: none; stroke: #464646; stroke-width: 1.5; stroke-linecap: round\"/>\n",
       "   </g>\n",
       "   <g id=\"line2d_45\">\n",
       "    <path d=\"M 243.30625 83.436365 \n",
       "L 243.30625 54.654319 \n",
       "\" clip-path=\"url(#p871978b100)\" style=\"fill: none; stroke: #464646; stroke-width: 1.5; stroke-linecap: round\"/>\n",
       "   </g>\n",
       "   <g id=\"line2d_46\">\n",
       "    <path d=\"M 235.86625 280.237213 \n",
       "L 250.74625 280.237213 \n",
       "\" clip-path=\"url(#p871978b100)\" style=\"fill: none; stroke: #464646; stroke-width: 1.5; stroke-linecap: round\"/>\n",
       "   </g>\n",
       "   <g id=\"line2d_47\">\n",
       "    <path d=\"M 235.86625 54.654319 \n",
       "L 250.74625 54.654319 \n",
       "\" clip-path=\"url(#p871978b100)\" style=\"fill: none; stroke: #464646; stroke-width: 1.5; stroke-linecap: round\"/>\n",
       "   </g>\n",
       "   <g id=\"line2d_48\"/>\n",
       "   <g id=\"line2d_49\">\n",
       "    <path d=\"M 280.50625 171.089063 \n",
       "L 280.50625 243.929875 \n",
       "\" clip-path=\"url(#p871978b100)\" style=\"fill: none; stroke: #464646; stroke-width: 1.5; stroke-linecap: round\"/>\n",
       "   </g>\n",
       "   <g id=\"line2d_50\">\n",
       "    <path d=\"M 280.50625 80.729018 \n",
       "L 280.50625 49.629082 \n",
       "\" clip-path=\"url(#p871978b100)\" style=\"fill: none; stroke: #464646; stroke-width: 1.5; stroke-linecap: round\"/>\n",
       "   </g>\n",
       "   <g id=\"line2d_51\">\n",
       "    <path d=\"M 273.06625 243.929875 \n",
       "L 287.94625 243.929875 \n",
       "\" clip-path=\"url(#p871978b100)\" style=\"fill: none; stroke: #464646; stroke-width: 1.5; stroke-linecap: round\"/>\n",
       "   </g>\n",
       "   <g id=\"line2d_52\">\n",
       "    <path d=\"M 273.06625 49.629082 \n",
       "L 287.94625 49.629082 \n",
       "\" clip-path=\"url(#p871978b100)\" style=\"fill: none; stroke: #464646; stroke-width: 1.5; stroke-linecap: round\"/>\n",
       "   </g>\n",
       "   <g id=\"line2d_53\"/>\n",
       "   <g id=\"line2d_54\">\n",
       "    <path d=\"M 317.70625 161.03482 \n",
       "L 317.70625 236.588004 \n",
       "\" clip-path=\"url(#p871978b100)\" style=\"fill: none; stroke: #464646; stroke-width: 1.5; stroke-linecap: round\"/>\n",
       "   </g>\n",
       "   <g id=\"line2d_55\">\n",
       "    <path d=\"M 317.70625 75.924892 \n",
       "L 317.70625 41.789712 \n",
       "\" clip-path=\"url(#p871978b100)\" style=\"fill: none; stroke: #464646; stroke-width: 1.5; stroke-linecap: round\"/>\n",
       "   </g>\n",
       "   <g id=\"line2d_56\">\n",
       "    <path d=\"M 310.26625 236.588004 \n",
       "L 325.14625 236.588004 \n",
       "\" clip-path=\"url(#p871978b100)\" style=\"fill: none; stroke: #464646; stroke-width: 1.5; stroke-linecap: round\"/>\n",
       "   </g>\n",
       "   <g id=\"line2d_57\">\n",
       "    <path d=\"M 310.26625 41.789712 \n",
       "L 325.14625 41.789712 \n",
       "\" clip-path=\"url(#p871978b100)\" style=\"fill: none; stroke: #464646; stroke-width: 1.5; stroke-linecap: round\"/>\n",
       "   </g>\n",
       "   <g id=\"line2d_58\"/>\n",
       "   <g id=\"line2d_59\">\n",
       "    <path d=\"M 354.90625 155.100015 \n",
       "L 354.90625 244.492702 \n",
       "\" clip-path=\"url(#p871978b100)\" style=\"fill: none; stroke: #464646; stroke-width: 1.5; stroke-linecap: round\"/>\n",
       "   </g>\n",
       "   <g id=\"line2d_60\">\n",
       "    <path d=\"M 354.90625 72.380843 \n",
       "L 354.90625 38.322299 \n",
       "\" clip-path=\"url(#p871978b100)\" style=\"fill: none; stroke: #464646; stroke-width: 1.5; stroke-linecap: round\"/>\n",
       "   </g>\n",
       "   <g id=\"line2d_61\">\n",
       "    <path d=\"M 347.46625 244.492702 \n",
       "L 362.34625 244.492702 \n",
       "\" clip-path=\"url(#p871978b100)\" style=\"fill: none; stroke: #464646; stroke-width: 1.5; stroke-linecap: round\"/>\n",
       "   </g>\n",
       "   <g id=\"line2d_62\">\n",
       "    <path d=\"M 347.46625 38.322299 \n",
       "L 362.34625 38.322299 \n",
       "\" clip-path=\"url(#p871978b100)\" style=\"fill: none; stroke: #464646; stroke-width: 1.5; stroke-linecap: round\"/>\n",
       "   </g>\n",
       "   <g id=\"line2d_63\">\n",
       "    <defs>\n",
       "     <path id=\"m140ccdf27b\" d=\"M -0 3.535534 \n",
       "L 2.12132 0 \n",
       "L -0 -3.535534 \n",
       "L -2.12132 -0 \n",
       "z\n",
       "\" style=\"stroke: #464646; stroke-linejoin: miter\"/>\n",
       "    </defs>\n",
       "    <g clip-path=\"url(#p871978b100)\">\n",
       "     <use xlink:href=\"#m140ccdf27b\" x=\"354.90625\" y=\"318.534545\" style=\"fill: #464646; stroke: #464646; stroke-linejoin: miter\"/>\n",
       "    </g>\n",
       "   </g>\n",
       "   <g id=\"line2d_64\">\n",
       "    <path d=\"M 392.10625 157.552331 \n",
       "L 392.10625 255.779384 \n",
       "\" clip-path=\"url(#p871978b100)\" style=\"fill: none; stroke: #464646; stroke-width: 1.5; stroke-linecap: round\"/>\n",
       "   </g>\n",
       "   <g id=\"line2d_65\">\n",
       "    <path d=\"M 392.10625 64.404535 \n",
       "L 392.10625 31.638733 \n",
       "\" clip-path=\"url(#p871978b100)\" style=\"fill: none; stroke: #464646; stroke-width: 1.5; stroke-linecap: round\"/>\n",
       "   </g>\n",
       "   <g id=\"line2d_66\">\n",
       "    <path d=\"M 384.66625 255.779384 \n",
       "L 399.54625 255.779384 \n",
       "\" clip-path=\"url(#p871978b100)\" style=\"fill: none; stroke: #464646; stroke-width: 1.5; stroke-linecap: round\"/>\n",
       "   </g>\n",
       "   <g id=\"line2d_67\">\n",
       "    <path d=\"M 384.66625 31.638733 \n",
       "L 399.54625 31.638733 \n",
       "\" clip-path=\"url(#p871978b100)\" style=\"fill: none; stroke: #464646; stroke-width: 1.5; stroke-linecap: round\"/>\n",
       "   </g>\n",
       "   <g id=\"line2d_68\"/>\n",
       "   <g id=\"line2d_69\">\n",
       "    <path d=\"M 429.30625 158.112645 \n",
       "L 429.30625 240.170998 \n",
       "\" clip-path=\"url(#p871978b100)\" style=\"fill: none; stroke: #464646; stroke-width: 1.5; stroke-linecap: round\"/>\n",
       "   </g>\n",
       "   <g id=\"line2d_70\">\n",
       "    <path d=\"M 429.30625 57.924492 \n",
       "L 429.30625 25.055673 \n",
       "\" clip-path=\"url(#p871978b100)\" style=\"fill: none; stroke: #464646; stroke-width: 1.5; stroke-linecap: round\"/>\n",
       "   </g>\n",
       "   <g id=\"line2d_71\">\n",
       "    <path d=\"M 421.86625 240.170998 \n",
       "L 436.74625 240.170998 \n",
       "\" clip-path=\"url(#p871978b100)\" style=\"fill: none; stroke: #464646; stroke-width: 1.5; stroke-linecap: round\"/>\n",
       "   </g>\n",
       "   <g id=\"line2d_72\">\n",
       "    <path d=\"M 421.86625 25.055673 \n",
       "L 436.74625 25.055673 \n",
       "\" clip-path=\"url(#p871978b100)\" style=\"fill: none; stroke: #464646; stroke-width: 1.5; stroke-linecap: round\"/>\n",
       "   </g>\n",
       "   <g id=\"line2d_73\"/>\n",
       "   <g id=\"line2d_74\">\n",
       "    <path d=\"M 466.50625 149.881306 \n",
       "L 466.50625 238.060398 \n",
       "\" clip-path=\"url(#p871978b100)\" style=\"fill: none; stroke: #464646; stroke-width: 1.5; stroke-linecap: round\"/>\n",
       "   </g>\n",
       "   <g id=\"line2d_75\">\n",
       "    <path d=\"M 466.50625 53.130416 \n",
       "L 466.50625 22.025455 \n",
       "\" clip-path=\"url(#p871978b100)\" style=\"fill: none; stroke: #464646; stroke-width: 1.5; stroke-linecap: round\"/>\n",
       "   </g>\n",
       "   <g id=\"line2d_76\">\n",
       "    <path d=\"M 459.06625 238.060398 \n",
       "L 473.94625 238.060398 \n",
       "\" clip-path=\"url(#p871978b100)\" style=\"fill: none; stroke: #464646; stroke-width: 1.5; stroke-linecap: round\"/>\n",
       "   </g>\n",
       "   <g id=\"line2d_77\">\n",
       "    <path d=\"M 459.06625 22.025455 \n",
       "L 473.94625 22.025455 \n",
       "\" clip-path=\"url(#p871978b100)\" style=\"fill: none; stroke: #464646; stroke-width: 1.5; stroke-linecap: round\"/>\n",
       "   </g>\n",
       "   <g id=\"line2d_78\"/>\n",
       "   <g id=\"line2d_79\">\n",
       "    <path d=\"M 42.42625 210.308526 \n",
       "L 72.18625 210.308526 \n",
       "\" clip-path=\"url(#p871978b100)\" style=\"fill: none; stroke: #464646; stroke-width: 1.5; stroke-linecap: round\"/>\n",
       "   </g>\n",
       "   <g id=\"line2d_80\">\n",
       "    <defs>\n",
       "     <path id=\"mc7fdc791da\" d=\"M 0 -3 \n",
       "L -3 3 \n",
       "L 3 3 \n",
       "z\n",
       "\" style=\"stroke: #55a868; stroke-linejoin: miter\"/>\n",
       "    </defs>\n",
       "    <g clip-path=\"url(#p871978b100)\">\n",
       "     <use xlink:href=\"#mc7fdc791da\" x=\"57.30625\" y=\"190.598945\" style=\"fill: #55a868; stroke: #55a868; stroke-linejoin: miter\"/>\n",
       "    </g>\n",
       "   </g>\n",
       "   <g id=\"line2d_81\">\n",
       "    <path d=\"M 79.62625 194.102137 \n",
       "L 109.38625 194.102137 \n",
       "\" clip-path=\"url(#p871978b100)\" style=\"fill: none; stroke: #464646; stroke-width: 1.5; stroke-linecap: round\"/>\n",
       "   </g>\n",
       "   <g id=\"line2d_82\">\n",
       "    <g clip-path=\"url(#p871978b100)\">\n",
       "     <use xlink:href=\"#mc7fdc791da\" x=\"94.50625\" y=\"178.288212\" style=\"fill: #55a868; stroke: #55a868; stroke-linejoin: miter\"/>\n",
       "    </g>\n",
       "   </g>\n",
       "   <g id=\"line2d_83\">\n",
       "    <path d=\"M 116.82625 181.436026 \n",
       "L 146.58625 181.436026 \n",
       "\" clip-path=\"url(#p871978b100)\" style=\"fill: none; stroke: #464646; stroke-width: 1.5; stroke-linecap: round\"/>\n",
       "   </g>\n",
       "   <g id=\"line2d_84\">\n",
       "    <g clip-path=\"url(#p871978b100)\">\n",
       "     <use xlink:href=\"#mc7fdc791da\" x=\"131.70625\" y=\"167.725928\" style=\"fill: #55a868; stroke: #55a868; stroke-linejoin: miter\"/>\n",
       "    </g>\n",
       "   </g>\n",
       "   <g id=\"line2d_85\">\n",
       "    <path d=\"M 154.02625 166.641728 \n",
       "L 183.78625 166.641728 \n",
       "\" clip-path=\"url(#p871978b100)\" style=\"fill: none; stroke: #464646; stroke-width: 1.5; stroke-linecap: round\"/>\n",
       "   </g>\n",
       "   <g id=\"line2d_86\">\n",
       "    <g clip-path=\"url(#p871978b100)\">\n",
       "     <use xlink:href=\"#mc7fdc791da\" x=\"168.90625\" y=\"157.328509\" style=\"fill: #55a868; stroke: #55a868; stroke-linejoin: miter\"/>\n",
       "    </g>\n",
       "   </g>\n",
       "   <g id=\"line2d_87\">\n",
       "    <path d=\"M 191.22625 153.048462 \n",
       "L 220.98625 153.048462 \n",
       "\" clip-path=\"url(#p871978b100)\" style=\"fill: none; stroke: #464646; stroke-width: 1.5; stroke-linecap: round\"/>\n",
       "   </g>\n",
       "   <g id=\"line2d_88\">\n",
       "    <g clip-path=\"url(#p871978b100)\">\n",
       "     <use xlink:href=\"#mc7fdc791da\" x=\"206.10625\" y=\"147.43333\" style=\"fill: #55a868; stroke: #55a868; stroke-linejoin: miter\"/>\n",
       "    </g>\n",
       "   </g>\n",
       "   <g id=\"line2d_89\">\n",
       "    <path d=\"M 228.42625 137.259167 \n",
       "L 258.18625 137.259167 \n",
       "\" clip-path=\"url(#p871978b100)\" style=\"fill: none; stroke: #464646; stroke-width: 1.5; stroke-linecap: round\"/>\n",
       "   </g>\n",
       "   <g id=\"line2d_90\">\n",
       "    <g clip-path=\"url(#p871978b100)\">\n",
       "     <use xlink:href=\"#mc7fdc791da\" x=\"243.30625\" y=\"137.77095\" style=\"fill: #55a868; stroke: #55a868; stroke-linejoin: miter\"/>\n",
       "    </g>\n",
       "   </g>\n",
       "   <g id=\"line2d_91\">\n",
       "    <path d=\"M 265.62625 123.341773 \n",
       "L 295.38625 123.341773 \n",
       "\" clip-path=\"url(#p871978b100)\" style=\"fill: none; stroke: #464646; stroke-width: 1.5; stroke-linecap: round\"/>\n",
       "   </g>\n",
       "   <g id=\"line2d_92\">\n",
       "    <g clip-path=\"url(#p871978b100)\">\n",
       "     <use xlink:href=\"#mc7fdc791da\" x=\"280.50625\" y=\"127.90621\" style=\"fill: #55a868; stroke: #55a868; stroke-linejoin: miter\"/>\n",
       "    </g>\n",
       "   </g>\n",
       "   <g id=\"line2d_93\">\n",
       "    <path d=\"M 302.82625 106.293656 \n",
       "L 332.58625 106.293656 \n",
       "\" clip-path=\"url(#p871978b100)\" style=\"fill: none; stroke: #464646; stroke-width: 1.5; stroke-linecap: round\"/>\n",
       "   </g>\n",
       "   <g id=\"line2d_94\">\n",
       "    <g clip-path=\"url(#p871978b100)\">\n",
       "     <use xlink:href=\"#mc7fdc791da\" x=\"317.70625\" y=\"119.466749\" style=\"fill: #55a868; stroke: #55a868; stroke-linejoin: miter\"/>\n",
       "    </g>\n",
       "   </g>\n",
       "   <g id=\"line2d_95\">\n",
       "    <path d=\"M 340.02625 96.901488 \n",
       "L 369.78625 96.901488 \n",
       "\" clip-path=\"url(#p871978b100)\" style=\"fill: none; stroke: #464646; stroke-width: 1.5; stroke-linecap: round\"/>\n",
       "   </g>\n",
       "   <g id=\"line2d_96\">\n",
       "    <g clip-path=\"url(#p871978b100)\">\n",
       "     <use xlink:href=\"#mc7fdc791da\" x=\"354.90625\" y=\"114.704204\" style=\"fill: #55a868; stroke: #55a868; stroke-linejoin: miter\"/>\n",
       "    </g>\n",
       "   </g>\n",
       "   <g id=\"line2d_97\">\n",
       "    <path d=\"M 377.22625 88.403812 \n",
       "L 406.98625 88.403812 \n",
       "\" clip-path=\"url(#p871978b100)\" style=\"fill: none; stroke: #464646; stroke-width: 1.5; stroke-linecap: round\"/>\n",
       "   </g>\n",
       "   <g id=\"line2d_98\">\n",
       "    <g clip-path=\"url(#p871978b100)\">\n",
       "     <use xlink:href=\"#mc7fdc791da\" x=\"392.10625\" y=\"110.410953\" style=\"fill: #55a868; stroke: #55a868; stroke-linejoin: miter\"/>\n",
       "    </g>\n",
       "   </g>\n",
       "   <g id=\"line2d_99\">\n",
       "    <path d=\"M 414.42625 81.210185 \n",
       "L 444.18625 81.210185 \n",
       "\" clip-path=\"url(#p871978b100)\" style=\"fill: none; stroke: #464646; stroke-width: 1.5; stroke-linecap: round\"/>\n",
       "   </g>\n",
       "   <g id=\"line2d_100\">\n",
       "    <g clip-path=\"url(#p871978b100)\">\n",
       "     <use xlink:href=\"#mc7fdc791da\" x=\"429.30625\" y=\"106.992553\" style=\"fill: #55a868; stroke: #55a868; stroke-linejoin: miter\"/>\n",
       "    </g>\n",
       "   </g>\n",
       "   <g id=\"line2d_101\">\n",
       "    <path d=\"M 451.62625 75.632172 \n",
       "L 481.38625 75.632172 \n",
       "\" clip-path=\"url(#p871978b100)\" style=\"fill: none; stroke: #464646; stroke-width: 1.5; stroke-linecap: round\"/>\n",
       "   </g>\n",
       "   <g id=\"line2d_102\">\n",
       "    <g clip-path=\"url(#p871978b100)\">\n",
       "     <use xlink:href=\"#mc7fdc791da\" x=\"466.50625\" y=\"100.396929\" style=\"fill: #55a868; stroke: #55a868; stroke-linejoin: miter\"/>\n",
       "    </g>\n",
       "   </g>\n",
       "   <g id=\"patch_15\">\n",
       "    <path d=\"M 38.70625 333.36 \n",
       "L 38.70625 7.2 \n",
       "\" style=\"fill: none; stroke: #262626; stroke-width: 0.8; stroke-linejoin: miter; stroke-linecap: square\"/>\n",
       "   </g>\n",
       "   <g id=\"patch_16\">\n",
       "    <path d=\"M 485.10625 333.36 \n",
       "L 485.10625 7.2 \n",
       "\" style=\"fill: none; stroke: #262626; stroke-width: 0.8; stroke-linejoin: miter; stroke-linecap: square\"/>\n",
       "   </g>\n",
       "   <g id=\"patch_17\">\n",
       "    <path d=\"M 38.70625 333.36 \n",
       "L 485.10625 333.36 \n",
       "\" style=\"fill: none; stroke: #262626; stroke-width: 0.8; stroke-linejoin: miter; stroke-linecap: square\"/>\n",
       "   </g>\n",
       "   <g id=\"patch_18\">\n",
       "    <path d=\"M 38.70625 7.2 \n",
       "L 485.10625 7.2 \n",
       "\" style=\"fill: none; stroke: #262626; stroke-width: 0.8; stroke-linejoin: miter; stroke-linecap: square\"/>\n",
       "   </g>\n",
       "  </g>\n",
       " </g>\n",
       " <defs>\n",
       "  <clipPath id=\"p871978b100\">\n",
       "   <rect x=\"38.70625\" y=\"7.2\" width=\"446.4\" height=\"326.16\"/>\n",
       "  </clipPath>\n",
       " </defs>\n",
       "</svg>\n"
      ],
      "text/plain": [
       "<Figure size 576x432 with 1 Axes>"
      ]
     },
     "metadata": {
      "image/png": {
       "height": 370,
       "width": 492
      }
     },
     "output_type": "display_data"
    }
   ],
   "source": [
    "ax = sns.boxplot(x='year', y='lifeExp', showmeans=True, data=gm)\n",
    "ax.set_ylabel('Life Expectancy')\n",
    "ax.set_xlabel('Year');"
   ]
  },
  {
   "cell_type": "markdown",
   "id": "b84b49f3-2dc1-47eb-904b-a220fcccca78",
   "metadata": {
    "pycharm": {
     "name": "#%% md\n"
    }
   },
   "source": [
    "### Reflection and Exercises\n",
    "\n",
    "* In a new text cell (below the chart, I'd suggest) discuss what are your findings. Would you have an explanation as to why sometimes the mean is above the median but, other times, below?\n",
    "\n",
    "* We have used `.head()` to inspect the initial rows of the dataset for a quick inspection. Similarly, now, add a cell for producing a random sample of 5 rows (tip: `.sample()`) and another for looking into the last 12 rows (tip: `.tail()`)."
   ]
  },
  {
   "cell_type": "markdown",
   "id": "f5a113e1-5e7c-4a12-9d85-9cf101c5db84",
   "metadata": {
    "pycharm": {
     "name": "#%% md\n"
    }
   },
   "source": [
    "## A Second, Deeper Dive"
   ]
  },
  {
   "cell_type": "markdown",
   "id": "60e948e3-1545-4393-806e-dd0b0eb5376d",
   "metadata": {
    "id": "zMEr1jVijw0Q",
    "pycharm": {
     "name": "#%% md\n"
    }
   },
   "source": [
    "### Subsetting DataFrames by Specifying Row and Column Labels"
   ]
  },
  {
   "cell_type": "markdown",
   "id": "bcfa86b3-a6d7-496b-9194-1f5148e5b06e",
   "metadata": {
    "id": "Hy_tTwIyjw0Q",
    "pycharm": {
     "name": "#%% md\n"
    }
   },
   "source": [
    "**Dataframes** are **objects** that can be seen as tabular structures with **rows** and **columns**. Rows and columns are associated with **indices**, and indices contain **labels**. One can think of each label being a name of a column (i.e., a header) or of a row (i.e., a row number). \n",
    "\n",
    "Accessing individual rows and columns is achieved via the operator `[]` or the property `.loc[]`.\n",
    "\n",
    "In many scenarios, the application of a method such as `.head()` or `.loc[]` on a DataFrame returns a new DataFrame object (or view of an object, but let us not worry about this right now)."
   ]
  },
  {
   "cell_type": "code",
   "execution_count": 49,
   "id": "1b7ba375-04b0-465a-8cbc-e2e019df73d9",
   "metadata": {
    "id": "D0SloNtkjw0Q",
    "pycharm": {
     "name": "#%%\n"
    }
   },
   "outputs": [
    {
     "data": {
      "text/plain": [
       "0    1952\n",
       "1    1957\n",
       "2    1962\n",
       "3    1967\n",
       "4    1972\n",
       "Name: year, dtype: int64"
      ]
     },
     "execution_count": 49,
     "metadata": {},
     "output_type": "execute_result"
    }
   ],
   "source": [
    "gm['year'].head()"
   ]
  },
  {
   "cell_type": "code",
   "execution_count": 50,
   "id": "2df8596a-6b0f-4fbd-b153-c3366a773b4a",
   "metadata": {
    "id": "0EA39LMzjw0R",
    "pycharm": {
     "name": "#%%\n"
    }
   },
   "outputs": [
    {
     "data": {
      "text/plain": [
       "0    1952\n",
       "1    1957\n",
       "2    1962\n",
       "3    1967\n",
       "4    1972\n",
       "Name: year, dtype: int64"
      ]
     },
     "execution_count": 50,
     "metadata": {},
     "output_type": "execute_result"
    }
   ],
   "source": [
    "gm.head()['year']"
   ]
  },
  {
   "cell_type": "code",
   "execution_count": 51,
   "id": "bcb08683-d53c-444e-98c2-a093c1b83b28",
   "metadata": {
    "id": "ZsYrUU_0jw0R",
    "pycharm": {
     "name": "#%%\n"
    }
   },
   "outputs": [
    {
     "data": {
      "text/plain": [
       "country      Afghanistan\n",
       "continent           Asia\n",
       "year                1952\n",
       "lifeExp           28.801\n",
       "pop              8425333\n",
       "gdpPercap     779.445314\n",
       "Name: 0, dtype: object"
      ]
     },
     "execution_count": 51,
     "metadata": {},
     "output_type": "execute_result"
    }
   ],
   "source": [
    "gm.loc[0]"
   ]
  },
  {
   "cell_type": "code",
   "execution_count": 52,
   "id": "eedfe204-5d2f-43ed-9f3e-69b627915ef8",
   "metadata": {
    "id": "HoHnCDWBjw0R",
    "pycharm": {
     "name": "#%%\n"
    }
   },
   "outputs": [
    {
     "data": {
      "text/plain": [
       "28.801"
      ]
     },
     "execution_count": 52,
     "metadata": {},
     "output_type": "execute_result"
    }
   ],
   "source": [
    "gm.loc[0, 'lifeExp']"
   ]
  },
  {
   "cell_type": "code",
   "execution_count": 53,
   "id": "c12b0506-a066-47a1-b747-ccac6dcb1bcf",
   "metadata": {
    "id": "B_DjWtYXjw0R",
    "pycharm": {
     "name": "#%%\n"
    }
   },
   "outputs": [
    {
     "data": {
      "text/plain": [
       "28.801"
      ]
     },
     "execution_count": 53,
     "metadata": {},
     "output_type": "execute_result"
    }
   ],
   "source": [
    "gm.loc[0]['lifeExp']"
   ]
  },
  {
   "cell_type": "markdown",
   "id": "e5e76b85-bd00-49d2-81ae-d533c3b8a9af",
   "metadata": {
    "id": "qworUsaFjw0R",
    "pycharm": {
     "name": "#%% md\n"
    }
   },
   "source": [
    "Instead of using a single row or column label, one can provide **a list** of labels."
   ]
  },
  {
   "cell_type": "code",
   "execution_count": 54,
   "id": "329d5c70-f2b7-4b5f-8ba0-09ae1aa1cd2c",
   "metadata": {
    "id": "y6XiMURGjw0R",
    "pycharm": {
     "name": "#%%\n"
    }
   },
   "outputs": [
    {
     "data": {
      "text/html": [
       "<div>\n",
       "<style scoped>\n",
       "    .dataframe tbody tr th:only-of-type {\n",
       "        vertical-align: middle;\n",
       "    }\n",
       "\n",
       "    .dataframe tbody tr th {\n",
       "        vertical-align: top;\n",
       "    }\n",
       "\n",
       "    .dataframe thead th {\n",
       "        text-align: right;\n",
       "    }\n",
       "</style>\n",
       "<table border=\"1\" class=\"dataframe\">\n",
       "  <thead>\n",
       "    <tr style=\"text-align: right;\">\n",
       "      <th></th>\n",
       "      <th>country</th>\n",
       "      <th>continent</th>\n",
       "      <th>year</th>\n",
       "      <th>lifeExp</th>\n",
       "      <th>pop</th>\n",
       "      <th>gdpPercap</th>\n",
       "    </tr>\n",
       "  </thead>\n",
       "  <tbody>\n",
       "    <tr>\n",
       "      <th>0</th>\n",
       "      <td>Afghanistan</td>\n",
       "      <td>Asia</td>\n",
       "      <td>1952</td>\n",
       "      <td>28.801</td>\n",
       "      <td>8425333</td>\n",
       "      <td>779.445314</td>\n",
       "    </tr>\n",
       "    <tr>\n",
       "      <th>12</th>\n",
       "      <td>Albania</td>\n",
       "      <td>Europe</td>\n",
       "      <td>1952</td>\n",
       "      <td>55.230</td>\n",
       "      <td>1282697</td>\n",
       "      <td>1601.056136</td>\n",
       "    </tr>\n",
       "    <tr>\n",
       "      <th>24</th>\n",
       "      <td>Algeria</td>\n",
       "      <td>Africa</td>\n",
       "      <td>1952</td>\n",
       "      <td>43.077</td>\n",
       "      <td>9279525</td>\n",
       "      <td>2449.008185</td>\n",
       "    </tr>\n",
       "  </tbody>\n",
       "</table>\n",
       "</div>"
      ],
      "text/plain": [
       "        country continent  year  lifeExp      pop    gdpPercap\n",
       "0   Afghanistan      Asia  1952   28.801  8425333   779.445314\n",
       "12      Albania    Europe  1952   55.230  1282697  1601.056136\n",
       "24      Algeria    Africa  1952   43.077  9279525  2449.008185"
      ]
     },
     "execution_count": 54,
     "metadata": {},
     "output_type": "execute_result"
    }
   ],
   "source": [
    "gm.loc[ [0,12,24] ]"
   ]
  },
  {
   "cell_type": "code",
   "execution_count": 55,
   "id": "83a0f27e-48f3-44b1-9388-4bb2ed4319dc",
   "metadata": {
    "id": "LgOvaBwPjw0S",
    "pycharm": {
     "name": "#%%\n"
    }
   },
   "outputs": [
    {
     "data": {
      "text/html": [
       "<div>\n",
       "<style scoped>\n",
       "    .dataframe tbody tr th:only-of-type {\n",
       "        vertical-align: middle;\n",
       "    }\n",
       "\n",
       "    .dataframe tbody tr th {\n",
       "        vertical-align: top;\n",
       "    }\n",
       "\n",
       "    .dataframe thead th {\n",
       "        text-align: right;\n",
       "    }\n",
       "</style>\n",
       "<table border=\"1\" class=\"dataframe\">\n",
       "  <thead>\n",
       "    <tr style=\"text-align: right;\">\n",
       "      <th></th>\n",
       "      <th>country</th>\n",
       "      <th>year</th>\n",
       "      <th>lifeExp</th>\n",
       "    </tr>\n",
       "  </thead>\n",
       "  <tbody>\n",
       "    <tr>\n",
       "      <th>0</th>\n",
       "      <td>Afghanistan</td>\n",
       "      <td>1952</td>\n",
       "      <td>28.801</td>\n",
       "    </tr>\n",
       "    <tr>\n",
       "      <th>1</th>\n",
       "      <td>Afghanistan</td>\n",
       "      <td>1957</td>\n",
       "      <td>30.332</td>\n",
       "    </tr>\n",
       "    <tr>\n",
       "      <th>2</th>\n",
       "      <td>Afghanistan</td>\n",
       "      <td>1962</td>\n",
       "      <td>31.997</td>\n",
       "    </tr>\n",
       "    <tr>\n",
       "      <th>3</th>\n",
       "      <td>Afghanistan</td>\n",
       "      <td>1967</td>\n",
       "      <td>34.020</td>\n",
       "    </tr>\n",
       "    <tr>\n",
       "      <th>4</th>\n",
       "      <td>Afghanistan</td>\n",
       "      <td>1972</td>\n",
       "      <td>36.088</td>\n",
       "    </tr>\n",
       "    <tr>\n",
       "      <th>...</th>\n",
       "      <td>...</td>\n",
       "      <td>...</td>\n",
       "      <td>...</td>\n",
       "    </tr>\n",
       "    <tr>\n",
       "      <th>1699</th>\n",
       "      <td>Zimbabwe</td>\n",
       "      <td>1987</td>\n",
       "      <td>62.351</td>\n",
       "    </tr>\n",
       "    <tr>\n",
       "      <th>1700</th>\n",
       "      <td>Zimbabwe</td>\n",
       "      <td>1992</td>\n",
       "      <td>60.377</td>\n",
       "    </tr>\n",
       "    <tr>\n",
       "      <th>1701</th>\n",
       "      <td>Zimbabwe</td>\n",
       "      <td>1997</td>\n",
       "      <td>46.809</td>\n",
       "    </tr>\n",
       "    <tr>\n",
       "      <th>1702</th>\n",
       "      <td>Zimbabwe</td>\n",
       "      <td>2002</td>\n",
       "      <td>39.989</td>\n",
       "    </tr>\n",
       "    <tr>\n",
       "      <th>1703</th>\n",
       "      <td>Zimbabwe</td>\n",
       "      <td>2007</td>\n",
       "      <td>43.487</td>\n",
       "    </tr>\n",
       "  </tbody>\n",
       "</table>\n",
       "<p>1704 rows × 3 columns</p>\n",
       "</div>"
      ],
      "text/plain": [
       "          country  year  lifeExp\n",
       "0     Afghanistan  1952   28.801\n",
       "1     Afghanistan  1957   30.332\n",
       "2     Afghanistan  1962   31.997\n",
       "3     Afghanistan  1967   34.020\n",
       "4     Afghanistan  1972   36.088\n",
       "...           ...   ...      ...\n",
       "1699     Zimbabwe  1987   62.351\n",
       "1700     Zimbabwe  1992   60.377\n",
       "1701     Zimbabwe  1997   46.809\n",
       "1702     Zimbabwe  2002   39.989\n",
       "1703     Zimbabwe  2007   43.487\n",
       "\n",
       "[1704 rows x 3 columns]"
      ]
     },
     "execution_count": 55,
     "metadata": {},
     "output_type": "execute_result"
    }
   ],
   "source": [
    "gm[ ['country', 'year', 'lifeExp'] ]"
   ]
  },
  {
   "cell_type": "code",
   "execution_count": 56,
   "id": "dce43d02-96f4-4ecb-a792-b3ebd97a08ad",
   "metadata": {
    "id": "gOdK-tRUjw0S",
    "pycharm": {
     "name": "#%%\n"
    }
   },
   "outputs": [
    {
     "data": {
      "text/html": [
       "<div>\n",
       "<style scoped>\n",
       "    .dataframe tbody tr th:only-of-type {\n",
       "        vertical-align: middle;\n",
       "    }\n",
       "\n",
       "    .dataframe tbody tr th {\n",
       "        vertical-align: top;\n",
       "    }\n",
       "\n",
       "    .dataframe thead th {\n",
       "        text-align: right;\n",
       "    }\n",
       "</style>\n",
       "<table border=\"1\" class=\"dataframe\">\n",
       "  <thead>\n",
       "    <tr style=\"text-align: right;\">\n",
       "      <th></th>\n",
       "      <th>country</th>\n",
       "      <th>year</th>\n",
       "      <th>lifeExp</th>\n",
       "    </tr>\n",
       "  </thead>\n",
       "  <tbody>\n",
       "    <tr>\n",
       "      <th>0</th>\n",
       "      <td>Afghanistan</td>\n",
       "      <td>1952</td>\n",
       "      <td>28.801</td>\n",
       "    </tr>\n",
       "    <tr>\n",
       "      <th>12</th>\n",
       "      <td>Albania</td>\n",
       "      <td>1952</td>\n",
       "      <td>55.230</td>\n",
       "    </tr>\n",
       "    <tr>\n",
       "      <th>24</th>\n",
       "      <td>Algeria</td>\n",
       "      <td>1952</td>\n",
       "      <td>43.077</td>\n",
       "    </tr>\n",
       "  </tbody>\n",
       "</table>\n",
       "</div>"
      ],
      "text/plain": [
       "        country  year  lifeExp\n",
       "0   Afghanistan  1952   28.801\n",
       "12      Albania  1952   55.230\n",
       "24      Algeria  1952   43.077"
      ]
     },
     "execution_count": 56,
     "metadata": {},
     "output_type": "execute_result"
    }
   ],
   "source": [
    "gm.loc[ [0,12,24], ['country', 'year', 'lifeExp'] ]"
   ]
  },
  {
   "cell_type": "markdown",
   "id": "eb66be7c-1b46-49b7-81bb-2e2e2077370c",
   "metadata": {
    "id": "SbTO8tvYjw0S",
    "pycharm": {
     "name": "#%% md\n"
    }
   },
   "source": [
    "The following are not quite equivalent - we shouldn't worry too much about the distinction at this stage. But we should say that one returns a two-dimensional DataFrame and the other a uni-dimensional DataFrame (referred to as a `pandas` **Series**), if you'd like."
   ]
  },
  {
   "cell_type": "code",
   "execution_count": 57,
   "id": "7f070645-28ee-4188-bda6-f2ec1bac58df",
   "metadata": {
    "id": "KKeMEbOOjw0S",
    "pycharm": {
     "name": "#%%\n"
    }
   },
   "outputs": [
    {
     "data": {
      "text/html": [
       "<div>\n",
       "<style scoped>\n",
       "    .dataframe tbody tr th:only-of-type {\n",
       "        vertical-align: middle;\n",
       "    }\n",
       "\n",
       "    .dataframe tbody tr th {\n",
       "        vertical-align: top;\n",
       "    }\n",
       "\n",
       "    .dataframe thead th {\n",
       "        text-align: right;\n",
       "    }\n",
       "</style>\n",
       "<table border=\"1\" class=\"dataframe\">\n",
       "  <thead>\n",
       "    <tr style=\"text-align: right;\">\n",
       "      <th></th>\n",
       "      <th>country</th>\n",
       "      <th>continent</th>\n",
       "      <th>year</th>\n",
       "      <th>lifeExp</th>\n",
       "      <th>pop</th>\n",
       "      <th>gdpPercap</th>\n",
       "    </tr>\n",
       "  </thead>\n",
       "  <tbody>\n",
       "    <tr>\n",
       "      <th>0</th>\n",
       "      <td>Afghanistan</td>\n",
       "      <td>Asia</td>\n",
       "      <td>1952</td>\n",
       "      <td>28.801</td>\n",
       "      <td>8425333</td>\n",
       "      <td>779.445314</td>\n",
       "    </tr>\n",
       "  </tbody>\n",
       "</table>\n",
       "</div>"
      ],
      "text/plain": [
       "       country continent  year  lifeExp      pop   gdpPercap\n",
       "0  Afghanistan      Asia  1952   28.801  8425333  779.445314"
      ]
     },
     "execution_count": 57,
     "metadata": {},
     "output_type": "execute_result"
    }
   ],
   "source": [
    "gm.loc[ [0] ]"
   ]
  },
  {
   "cell_type": "code",
   "execution_count": 58,
   "id": "d3cdeadf-19f7-45aa-b4a3-5e5d9df7b4fb",
   "metadata": {
    "id": "v78VAhMjjw0S",
    "pycharm": {
     "name": "#%%\n"
    }
   },
   "outputs": [
    {
     "data": {
      "text/plain": [
       "country      Afghanistan\n",
       "continent           Asia\n",
       "year                1952\n",
       "lifeExp           28.801\n",
       "pop              8425333\n",
       "gdpPercap     779.445314\n",
       "Name: 0, dtype: object"
      ]
     },
     "execution_count": 58,
     "metadata": {},
     "output_type": "execute_result"
    }
   ],
   "source": [
    "gm.loc[0]"
   ]
  },
  {
   "cell_type": "markdown",
   "id": "3a23c9f0-76b4-4857-b22c-58ca8f8922ce",
   "metadata": {
    "id": "LnS7BZ3rjw0S",
    "pycharm": {
     "name": "#%% md\n"
    }
   },
   "source": [
    "**checkpoint**: it is a good idea to practice some of the above. You could write code cells that do the following:\n",
    "\n",
    "* produce a DataFrame with only the columns `year` and `pop`. For conciseness, you can simply take the `.head()` of the result.\n",
    "* obtain a DataFrame with the rows with labels `10`, `20`, `100`, and `1000` - for no particular reason, rather than just trying out subsetting expressions.\n",
    "* finally, a DataFrame for the subset of columns and rows expressed above."
   ]
  },
  {
   "cell_type": "markdown",
   "id": "8b485738-1454-4ea3-b529-a5f018036d8f",
   "metadata": {
    "id": "ZXHwo-Aljw0S",
    "pycharm": {
     "name": "#%% md\n"
    }
   },
   "source": [
    "By the way, one could also use **ranges of labels**, rather than listing every single one were are interesting in:"
   ]
  },
  {
   "cell_type": "code",
   "execution_count": 59,
   "id": "bc007316-7685-43be-8aa3-2a5120dd7a84",
   "metadata": {
    "id": "9zqOfX9-jw0S",
    "pycharm": {
     "name": "#%%\n"
    }
   },
   "outputs": [
    {
     "data": {
      "text/html": [
       "<div>\n",
       "<style scoped>\n",
       "    .dataframe tbody tr th:only-of-type {\n",
       "        vertical-align: middle;\n",
       "    }\n",
       "\n",
       "    .dataframe tbody tr th {\n",
       "        vertical-align: top;\n",
       "    }\n",
       "\n",
       "    .dataframe thead th {\n",
       "        text-align: right;\n",
       "    }\n",
       "</style>\n",
       "<table border=\"1\" class=\"dataframe\">\n",
       "  <thead>\n",
       "    <tr style=\"text-align: right;\">\n",
       "      <th></th>\n",
       "      <th>country</th>\n",
       "      <th>continent</th>\n",
       "      <th>year</th>\n",
       "      <th>lifeExp</th>\n",
       "      <th>pop</th>\n",
       "      <th>gdpPercap</th>\n",
       "    </tr>\n",
       "  </thead>\n",
       "  <tbody>\n",
       "    <tr>\n",
       "      <th>0</th>\n",
       "      <td>Afghanistan</td>\n",
       "      <td>Asia</td>\n",
       "      <td>1952</td>\n",
       "      <td>28.801</td>\n",
       "      <td>8425333</td>\n",
       "      <td>779.445314</td>\n",
       "    </tr>\n",
       "    <tr>\n",
       "      <th>1</th>\n",
       "      <td>Afghanistan</td>\n",
       "      <td>Asia</td>\n",
       "      <td>1957</td>\n",
       "      <td>30.332</td>\n",
       "      <td>9240934</td>\n",
       "      <td>820.853030</td>\n",
       "    </tr>\n",
       "    <tr>\n",
       "      <th>2</th>\n",
       "      <td>Afghanistan</td>\n",
       "      <td>Asia</td>\n",
       "      <td>1962</td>\n",
       "      <td>31.997</td>\n",
       "      <td>10267083</td>\n",
       "      <td>853.100710</td>\n",
       "    </tr>\n",
       "    <tr>\n",
       "      <th>3</th>\n",
       "      <td>Afghanistan</td>\n",
       "      <td>Asia</td>\n",
       "      <td>1967</td>\n",
       "      <td>34.020</td>\n",
       "      <td>11537966</td>\n",
       "      <td>836.197138</td>\n",
       "    </tr>\n",
       "    <tr>\n",
       "      <th>4</th>\n",
       "      <td>Afghanistan</td>\n",
       "      <td>Asia</td>\n",
       "      <td>1972</td>\n",
       "      <td>36.088</td>\n",
       "      <td>13079460</td>\n",
       "      <td>739.981106</td>\n",
       "    </tr>\n",
       "    <tr>\n",
       "      <th>5</th>\n",
       "      <td>Afghanistan</td>\n",
       "      <td>Asia</td>\n",
       "      <td>1977</td>\n",
       "      <td>38.438</td>\n",
       "      <td>14880372</td>\n",
       "      <td>786.113360</td>\n",
       "    </tr>\n",
       "  </tbody>\n",
       "</table>\n",
       "</div>"
      ],
      "text/plain": [
       "       country continent  year  lifeExp       pop   gdpPercap\n",
       "0  Afghanistan      Asia  1952   28.801   8425333  779.445314\n",
       "1  Afghanistan      Asia  1957   30.332   9240934  820.853030\n",
       "2  Afghanistan      Asia  1962   31.997  10267083  853.100710\n",
       "3  Afghanistan      Asia  1967   34.020  11537966  836.197138\n",
       "4  Afghanistan      Asia  1972   36.088  13079460  739.981106\n",
       "5  Afghanistan      Asia  1977   38.438  14880372  786.113360"
      ]
     },
     "execution_count": 59,
     "metadata": {},
     "output_type": "execute_result"
    }
   ],
   "source": [
    "gm.loc[0:5]"
   ]
  },
  {
   "cell_type": "code",
   "execution_count": 60,
   "id": "5b19954d-43f4-4a8d-a9ec-a15fd2ef0977",
   "metadata": {
    "id": "IdRQ9Lasjw0T",
    "pycharm": {
     "name": "#%%\n"
    }
   },
   "outputs": [
    {
     "data": {
      "text/html": [
       "<div>\n",
       "<style scoped>\n",
       "    .dataframe tbody tr th:only-of-type {\n",
       "        vertical-align: middle;\n",
       "    }\n",
       "\n",
       "    .dataframe tbody tr th {\n",
       "        vertical-align: top;\n",
       "    }\n",
       "\n",
       "    .dataframe thead th {\n",
       "        text-align: right;\n",
       "    }\n",
       "</style>\n",
       "<table border=\"1\" class=\"dataframe\">\n",
       "  <thead>\n",
       "    <tr style=\"text-align: right;\">\n",
       "      <th></th>\n",
       "      <th>lifeExp</th>\n",
       "      <th>pop</th>\n",
       "      <th>gdpPercap</th>\n",
       "    </tr>\n",
       "  </thead>\n",
       "  <tbody>\n",
       "    <tr>\n",
       "      <th>0</th>\n",
       "      <td>28.801</td>\n",
       "      <td>8425333</td>\n",
       "      <td>779.445314</td>\n",
       "    </tr>\n",
       "    <tr>\n",
       "      <th>1</th>\n",
       "      <td>30.332</td>\n",
       "      <td>9240934</td>\n",
       "      <td>820.853030</td>\n",
       "    </tr>\n",
       "    <tr>\n",
       "      <th>2</th>\n",
       "      <td>31.997</td>\n",
       "      <td>10267083</td>\n",
       "      <td>853.100710</td>\n",
       "    </tr>\n",
       "    <tr>\n",
       "      <th>3</th>\n",
       "      <td>34.020</td>\n",
       "      <td>11537966</td>\n",
       "      <td>836.197138</td>\n",
       "    </tr>\n",
       "    <tr>\n",
       "      <th>4</th>\n",
       "      <td>36.088</td>\n",
       "      <td>13079460</td>\n",
       "      <td>739.981106</td>\n",
       "    </tr>\n",
       "    <tr>\n",
       "      <th>5</th>\n",
       "      <td>38.438</td>\n",
       "      <td>14880372</td>\n",
       "      <td>786.113360</td>\n",
       "    </tr>\n",
       "  </tbody>\n",
       "</table>\n",
       "</div>"
      ],
      "text/plain": [
       "   lifeExp       pop   gdpPercap\n",
       "0   28.801   8425333  779.445314\n",
       "1   30.332   9240934  820.853030\n",
       "2   31.997  10267083  853.100710\n",
       "3   34.020  11537966  836.197138\n",
       "4   36.088  13079460  739.981106\n",
       "5   38.438  14880372  786.113360"
      ]
     },
     "execution_count": 60,
     "metadata": {},
     "output_type": "execute_result"
    }
   ],
   "source": [
    "gm.loc[0:5, 'lifeExp':'gdpPercap']"
   ]
  },
  {
   "cell_type": "markdown",
   "id": "1d328506-2145-420e-9a4c-3eb9adde1c12",
   "metadata": {
    "id": "8tYwcQCvjw0T",
    "pycharm": {
     "name": "#%% md\n"
    }
   },
   "source": [
    "One can omit the being and/or the end of the range:"
   ]
  },
  {
   "cell_type": "code",
   "execution_count": 61,
   "id": "12ccccf0-48aa-4916-ba59-72356e0f9a3b",
   "metadata": {
    "id": "l56r32bYjw0T",
    "pycharm": {
     "name": "#%%\n"
    }
   },
   "outputs": [
    {
     "data": {
      "text/html": [
       "<div>\n",
       "<style scoped>\n",
       "    .dataframe tbody tr th:only-of-type {\n",
       "        vertical-align: middle;\n",
       "    }\n",
       "\n",
       "    .dataframe tbody tr th {\n",
       "        vertical-align: top;\n",
       "    }\n",
       "\n",
       "    .dataframe thead th {\n",
       "        text-align: right;\n",
       "    }\n",
       "</style>\n",
       "<table border=\"1\" class=\"dataframe\">\n",
       "  <thead>\n",
       "    <tr style=\"text-align: right;\">\n",
       "      <th></th>\n",
       "      <th>country</th>\n",
       "      <th>continent</th>\n",
       "      <th>year</th>\n",
       "      <th>lifeExp</th>\n",
       "      <th>pop</th>\n",
       "      <th>gdpPercap</th>\n",
       "    </tr>\n",
       "  </thead>\n",
       "  <tbody>\n",
       "    <tr>\n",
       "      <th>1700</th>\n",
       "      <td>Zimbabwe</td>\n",
       "      <td>Africa</td>\n",
       "      <td>1992</td>\n",
       "      <td>60.377</td>\n",
       "      <td>10704340</td>\n",
       "      <td>693.420786</td>\n",
       "    </tr>\n",
       "    <tr>\n",
       "      <th>1701</th>\n",
       "      <td>Zimbabwe</td>\n",
       "      <td>Africa</td>\n",
       "      <td>1997</td>\n",
       "      <td>46.809</td>\n",
       "      <td>11404948</td>\n",
       "      <td>792.449960</td>\n",
       "    </tr>\n",
       "    <tr>\n",
       "      <th>1702</th>\n",
       "      <td>Zimbabwe</td>\n",
       "      <td>Africa</td>\n",
       "      <td>2002</td>\n",
       "      <td>39.989</td>\n",
       "      <td>11926563</td>\n",
       "      <td>672.038623</td>\n",
       "    </tr>\n",
       "    <tr>\n",
       "      <th>1703</th>\n",
       "      <td>Zimbabwe</td>\n",
       "      <td>Africa</td>\n",
       "      <td>2007</td>\n",
       "      <td>43.487</td>\n",
       "      <td>12311143</td>\n",
       "      <td>469.709298</td>\n",
       "    </tr>\n",
       "  </tbody>\n",
       "</table>\n",
       "</div>"
      ],
      "text/plain": [
       "       country continent  year  lifeExp       pop   gdpPercap\n",
       "1700  Zimbabwe    Africa  1992   60.377  10704340  693.420786\n",
       "1701  Zimbabwe    Africa  1997   46.809  11404948  792.449960\n",
       "1702  Zimbabwe    Africa  2002   39.989  11926563  672.038623\n",
       "1703  Zimbabwe    Africa  2007   43.487  12311143  469.709298"
      ]
     },
     "execution_count": 61,
     "metadata": {},
     "output_type": "execute_result"
    }
   ],
   "source": [
    "gm.loc[1700:]"
   ]
  },
  {
   "cell_type": "code",
   "execution_count": 62,
   "id": "a86fad4a-52fc-4f05-ae75-da0f890283d8",
   "metadata": {
    "id": "qqggetCJjw0T",
    "pycharm": {
     "name": "#%%\n"
    }
   },
   "outputs": [
    {
     "data": {
      "text/html": [
       "<div>\n",
       "<style scoped>\n",
       "    .dataframe tbody tr th:only-of-type {\n",
       "        vertical-align: middle;\n",
       "    }\n",
       "\n",
       "    .dataframe tbody tr th {\n",
       "        vertical-align: top;\n",
       "    }\n",
       "\n",
       "    .dataframe thead th {\n",
       "        text-align: right;\n",
       "    }\n",
       "</style>\n",
       "<table border=\"1\" class=\"dataframe\">\n",
       "  <thead>\n",
       "    <tr style=\"text-align: right;\">\n",
       "      <th></th>\n",
       "      <th>lifeExp</th>\n",
       "      <th>pop</th>\n",
       "      <th>gdpPercap</th>\n",
       "    </tr>\n",
       "  </thead>\n",
       "  <tbody>\n",
       "    <tr>\n",
       "      <th>1700</th>\n",
       "      <td>60.377</td>\n",
       "      <td>10704340</td>\n",
       "      <td>693.420786</td>\n",
       "    </tr>\n",
       "    <tr>\n",
       "      <th>1701</th>\n",
       "      <td>46.809</td>\n",
       "      <td>11404948</td>\n",
       "      <td>792.449960</td>\n",
       "    </tr>\n",
       "    <tr>\n",
       "      <th>1702</th>\n",
       "      <td>39.989</td>\n",
       "      <td>11926563</td>\n",
       "      <td>672.038623</td>\n",
       "    </tr>\n",
       "    <tr>\n",
       "      <th>1703</th>\n",
       "      <td>43.487</td>\n",
       "      <td>12311143</td>\n",
       "      <td>469.709298</td>\n",
       "    </tr>\n",
       "  </tbody>\n",
       "</table>\n",
       "</div>"
      ],
      "text/plain": [
       "      lifeExp       pop   gdpPercap\n",
       "1700   60.377  10704340  693.420786\n",
       "1701   46.809  11404948  792.449960\n",
       "1702   39.989  11926563  672.038623\n",
       "1703   43.487  12311143  469.709298"
      ]
     },
     "execution_count": 62,
     "metadata": {},
     "output_type": "execute_result"
    }
   ],
   "source": [
    "gm.loc[1700:, 'lifeExp':]"
   ]
  },
  {
   "cell_type": "code",
   "execution_count": 63,
   "id": "57d3b20e-be2e-4473-a416-fc195e0b4864",
   "metadata": {
    "id": "K_A73Qwsjw0T",
    "pycharm": {
     "name": "#%%\n"
    }
   },
   "outputs": [
    {
     "data": {
      "text/html": [
       "<div>\n",
       "<style scoped>\n",
       "    .dataframe tbody tr th:only-of-type {\n",
       "        vertical-align: middle;\n",
       "    }\n",
       "\n",
       "    .dataframe tbody tr th {\n",
       "        vertical-align: top;\n",
       "    }\n",
       "\n",
       "    .dataframe thead th {\n",
       "        text-align: right;\n",
       "    }\n",
       "</style>\n",
       "<table border=\"1\" class=\"dataframe\">\n",
       "  <thead>\n",
       "    <tr style=\"text-align: right;\">\n",
       "      <th></th>\n",
       "      <th>lifeExp</th>\n",
       "      <th>pop</th>\n",
       "      <th>gdpPercap</th>\n",
       "    </tr>\n",
       "  </thead>\n",
       "  <tbody>\n",
       "    <tr>\n",
       "      <th>0</th>\n",
       "      <td>28.801</td>\n",
       "      <td>8425333</td>\n",
       "      <td>779.445314</td>\n",
       "    </tr>\n",
       "    <tr>\n",
       "      <th>1</th>\n",
       "      <td>30.332</td>\n",
       "      <td>9240934</td>\n",
       "      <td>820.853030</td>\n",
       "    </tr>\n",
       "    <tr>\n",
       "      <th>2</th>\n",
       "      <td>31.997</td>\n",
       "      <td>10267083</td>\n",
       "      <td>853.100710</td>\n",
       "    </tr>\n",
       "    <tr>\n",
       "      <th>3</th>\n",
       "      <td>34.020</td>\n",
       "      <td>11537966</td>\n",
       "      <td>836.197138</td>\n",
       "    </tr>\n",
       "    <tr>\n",
       "      <th>4</th>\n",
       "      <td>36.088</td>\n",
       "      <td>13079460</td>\n",
       "      <td>739.981106</td>\n",
       "    </tr>\n",
       "    <tr>\n",
       "      <th>...</th>\n",
       "      <td>...</td>\n",
       "      <td>...</td>\n",
       "      <td>...</td>\n",
       "    </tr>\n",
       "    <tr>\n",
       "      <th>1699</th>\n",
       "      <td>62.351</td>\n",
       "      <td>9216418</td>\n",
       "      <td>706.157306</td>\n",
       "    </tr>\n",
       "    <tr>\n",
       "      <th>1700</th>\n",
       "      <td>60.377</td>\n",
       "      <td>10704340</td>\n",
       "      <td>693.420786</td>\n",
       "    </tr>\n",
       "    <tr>\n",
       "      <th>1701</th>\n",
       "      <td>46.809</td>\n",
       "      <td>11404948</td>\n",
       "      <td>792.449960</td>\n",
       "    </tr>\n",
       "    <tr>\n",
       "      <th>1702</th>\n",
       "      <td>39.989</td>\n",
       "      <td>11926563</td>\n",
       "      <td>672.038623</td>\n",
       "    </tr>\n",
       "    <tr>\n",
       "      <th>1703</th>\n",
       "      <td>43.487</td>\n",
       "      <td>12311143</td>\n",
       "      <td>469.709298</td>\n",
       "    </tr>\n",
       "  </tbody>\n",
       "</table>\n",
       "<p>1704 rows × 3 columns</p>\n",
       "</div>"
      ],
      "text/plain": [
       "      lifeExp       pop   gdpPercap\n",
       "0      28.801   8425333  779.445314\n",
       "1      30.332   9240934  820.853030\n",
       "2      31.997  10267083  853.100710\n",
       "3      34.020  11537966  836.197138\n",
       "4      36.088  13079460  739.981106\n",
       "...       ...       ...         ...\n",
       "1699   62.351   9216418  706.157306\n",
       "1700   60.377  10704340  693.420786\n",
       "1701   46.809  11404948  792.449960\n",
       "1702   39.989  11926563  672.038623\n",
       "1703   43.487  12311143  469.709298\n",
       "\n",
       "[1704 rows x 3 columns]"
      ]
     },
     "execution_count": 63,
     "metadata": {},
     "output_type": "execute_result"
    }
   ],
   "source": [
    "gm.loc[:, 'lifeExp':]"
   ]
  },
  {
   "cell_type": "markdown",
   "id": "29f4b060-18d7-400f-a5c9-c920854f321d",
   "metadata": {
    "id": "KYXqIJ9rjw0T",
    "pycharm": {
     "name": "#%% md\n"
    }
   },
   "source": [
    "**checkpoint**: perhaps you would like to play with code on ranges above and try some alternatives?"
   ]
  },
  {
   "cell_type": "markdown",
   "id": "383a533a-4209-469a-bba7-0afeccf5d321",
   "metadata": {
    "id": "bIhz2pjnjw0T",
    "pycharm": {
     "name": "#%% md\n"
    }
   },
   "source": [
    "### Subsetting DataFrames with Logical Conditions"
   ]
  },
  {
   "cell_type": "markdown",
   "id": "c08afa46-b385-4ffe-9604-0af807d01897",
   "metadata": {
    "id": "r0eEv2bmjw0T",
    "pycharm": {
     "name": "#%% md\n"
    }
   },
   "source": [
    "If I am interested in only those latest observations dated of 2007..."
   ]
  },
  {
   "cell_type": "markdown",
   "id": "43795eb2-de6a-4978-8e9d-bf26f80580ef",
   "metadata": {
    "id": "mpgfqUKZjw0T",
    "pycharm": {
     "name": "#%% md\n"
    }
   },
   "source": [
    "One of the options is to use the method `.query()` - it can be more intuitive than our second option, but more limited, perhaps."
   ]
  },
  {
   "cell_type": "code",
   "execution_count": 64,
   "id": "b3d66865-ffc5-45ec-ae25-b71429247acd",
   "metadata": {
    "id": "h0iSfhpUjw0U",
    "pycharm": {
     "name": "#%%\n"
    }
   },
   "outputs": [
    {
     "data": {
      "text/html": [
       "<div>\n",
       "<style scoped>\n",
       "    .dataframe tbody tr th:only-of-type {\n",
       "        vertical-align: middle;\n",
       "    }\n",
       "\n",
       "    .dataframe tbody tr th {\n",
       "        vertical-align: top;\n",
       "    }\n",
       "\n",
       "    .dataframe thead th {\n",
       "        text-align: right;\n",
       "    }\n",
       "</style>\n",
       "<table border=\"1\" class=\"dataframe\">\n",
       "  <thead>\n",
       "    <tr style=\"text-align: right;\">\n",
       "      <th></th>\n",
       "      <th>country</th>\n",
       "      <th>continent</th>\n",
       "      <th>year</th>\n",
       "      <th>lifeExp</th>\n",
       "      <th>pop</th>\n",
       "      <th>gdpPercap</th>\n",
       "    </tr>\n",
       "  </thead>\n",
       "  <tbody>\n",
       "    <tr>\n",
       "      <th>11</th>\n",
       "      <td>Afghanistan</td>\n",
       "      <td>Asia</td>\n",
       "      <td>2007</td>\n",
       "      <td>43.828</td>\n",
       "      <td>31889923</td>\n",
       "      <td>974.580338</td>\n",
       "    </tr>\n",
       "    <tr>\n",
       "      <th>23</th>\n",
       "      <td>Albania</td>\n",
       "      <td>Europe</td>\n",
       "      <td>2007</td>\n",
       "      <td>76.423</td>\n",
       "      <td>3600523</td>\n",
       "      <td>5937.029526</td>\n",
       "    </tr>\n",
       "    <tr>\n",
       "      <th>35</th>\n",
       "      <td>Algeria</td>\n",
       "      <td>Africa</td>\n",
       "      <td>2007</td>\n",
       "      <td>72.301</td>\n",
       "      <td>33333216</td>\n",
       "      <td>6223.367465</td>\n",
       "    </tr>\n",
       "    <tr>\n",
       "      <th>47</th>\n",
       "      <td>Angola</td>\n",
       "      <td>Africa</td>\n",
       "      <td>2007</td>\n",
       "      <td>42.731</td>\n",
       "      <td>12420476</td>\n",
       "      <td>4797.231267</td>\n",
       "    </tr>\n",
       "    <tr>\n",
       "      <th>59</th>\n",
       "      <td>Argentina</td>\n",
       "      <td>Americas</td>\n",
       "      <td>2007</td>\n",
       "      <td>75.320</td>\n",
       "      <td>40301927</td>\n",
       "      <td>12779.379640</td>\n",
       "    </tr>\n",
       "  </tbody>\n",
       "</table>\n",
       "</div>"
      ],
      "text/plain": [
       "        country continent  year  lifeExp       pop     gdpPercap\n",
       "11  Afghanistan      Asia  2007   43.828  31889923    974.580338\n",
       "23      Albania    Europe  2007   76.423   3600523   5937.029526\n",
       "35      Algeria    Africa  2007   72.301  33333216   6223.367465\n",
       "47       Angola    Africa  2007   42.731  12420476   4797.231267\n",
       "59    Argentina  Americas  2007   75.320  40301927  12779.379640"
      ]
     },
     "execution_count": 64,
     "metadata": {},
     "output_type": "execute_result"
    }
   ],
   "source": [
    "gm.query(\"year==2007\").head()"
   ]
  },
  {
   "cell_type": "markdown",
   "id": "597c99dd-b8f7-4b83-a9af-0dbc810c50ab",
   "metadata": {
    "id": "UZAfcWbgjw0U",
    "pycharm": {
     "name": "#%% md\n"
    }
   },
   "source": [
    "Quite commonly, Python data scientists will use **boolean masks** (in other words, vectors of True/False values). I am only using `.head()` to supress the output of too many rows - this is typical strategy in inspecting data and expressions."
   ]
  },
  {
   "cell_type": "code",
   "execution_count": 65,
   "id": "31e7bfb6-018f-4e7c-b967-ab91df582585",
   "metadata": {
    "id": "m_QpiBcAjw0U",
    "pycharm": {
     "name": "#%%\n"
    }
   },
   "outputs": [
    {
     "data": {
      "text/html": [
       "<div>\n",
       "<style scoped>\n",
       "    .dataframe tbody tr th:only-of-type {\n",
       "        vertical-align: middle;\n",
       "    }\n",
       "\n",
       "    .dataframe tbody tr th {\n",
       "        vertical-align: top;\n",
       "    }\n",
       "\n",
       "    .dataframe thead th {\n",
       "        text-align: right;\n",
       "    }\n",
       "</style>\n",
       "<table border=\"1\" class=\"dataframe\">\n",
       "  <thead>\n",
       "    <tr style=\"text-align: right;\">\n",
       "      <th></th>\n",
       "      <th>country</th>\n",
       "      <th>continent</th>\n",
       "      <th>year</th>\n",
       "      <th>lifeExp</th>\n",
       "      <th>pop</th>\n",
       "      <th>gdpPercap</th>\n",
       "    </tr>\n",
       "  </thead>\n",
       "  <tbody>\n",
       "    <tr>\n",
       "      <th>11</th>\n",
       "      <td>Afghanistan</td>\n",
       "      <td>Asia</td>\n",
       "      <td>2007</td>\n",
       "      <td>43.828</td>\n",
       "      <td>31889923</td>\n",
       "      <td>974.580338</td>\n",
       "    </tr>\n",
       "    <tr>\n",
       "      <th>23</th>\n",
       "      <td>Albania</td>\n",
       "      <td>Europe</td>\n",
       "      <td>2007</td>\n",
       "      <td>76.423</td>\n",
       "      <td>3600523</td>\n",
       "      <td>5937.029526</td>\n",
       "    </tr>\n",
       "    <tr>\n",
       "      <th>35</th>\n",
       "      <td>Algeria</td>\n",
       "      <td>Africa</td>\n",
       "      <td>2007</td>\n",
       "      <td>72.301</td>\n",
       "      <td>33333216</td>\n",
       "      <td>6223.367465</td>\n",
       "    </tr>\n",
       "    <tr>\n",
       "      <th>47</th>\n",
       "      <td>Angola</td>\n",
       "      <td>Africa</td>\n",
       "      <td>2007</td>\n",
       "      <td>42.731</td>\n",
       "      <td>12420476</td>\n",
       "      <td>4797.231267</td>\n",
       "    </tr>\n",
       "    <tr>\n",
       "      <th>59</th>\n",
       "      <td>Argentina</td>\n",
       "      <td>Americas</td>\n",
       "      <td>2007</td>\n",
       "      <td>75.320</td>\n",
       "      <td>40301927</td>\n",
       "      <td>12779.379640</td>\n",
       "    </tr>\n",
       "  </tbody>\n",
       "</table>\n",
       "</div>"
      ],
      "text/plain": [
       "        country continent  year  lifeExp       pop     gdpPercap\n",
       "11  Afghanistan      Asia  2007   43.828  31889923    974.580338\n",
       "23      Albania    Europe  2007   76.423   3600523   5937.029526\n",
       "35      Algeria    Africa  2007   72.301  33333216   6223.367465\n",
       "47       Angola    Africa  2007   42.731  12420476   4797.231267\n",
       "59    Argentina  Americas  2007   75.320  40301927  12779.379640"
      ]
     },
     "execution_count": 65,
     "metadata": {},
     "output_type": "execute_result"
    }
   ],
   "source": [
    "gm.loc[ gm['year']==2007 ].head()"
   ]
  },
  {
   "cell_type": "code",
   "execution_count": 66,
   "id": "78635d31-4b55-402b-bf00-c8245202025c",
   "metadata": {
    "id": "l5Ysow2Zjw0U",
    "pycharm": {
     "name": "#%%\n"
    }
   },
   "outputs": [
    {
     "data": {
      "text/plain": [
       "0       False\n",
       "1       False\n",
       "2       False\n",
       "3       False\n",
       "4       False\n",
       "        ...  \n",
       "1699    False\n",
       "1700    False\n",
       "1701    False\n",
       "1702    False\n",
       "1703     True\n",
       "Name: year, Length: 1704, dtype: bool"
      ]
     },
     "execution_count": 66,
     "metadata": {},
     "output_type": "execute_result"
    }
   ],
   "source": [
    "gm['year']==2007"
   ]
  },
  {
   "cell_type": "markdown",
   "id": "c26fbeeb-1ae3-4a76-a756-a806bc3ab751",
   "metadata": {
    "id": "hi48Ji8hjw0U",
    "pycharm": {
     "name": "#%% md\n"
    }
   },
   "source": [
    "How about which countries have had life expectancy equals to or greater than 80 years?"
   ]
  },
  {
   "cell_type": "code",
   "execution_count": 67,
   "id": "5149a9ea-c802-4278-a50e-c47c8168fc4d",
   "metadata": {
    "id": "Yz1BVZb4jw0U",
    "pycharm": {
     "name": "#%%\n"
    }
   },
   "outputs": [
    {
     "data": {
      "text/html": [
       "<div>\n",
       "<style scoped>\n",
       "    .dataframe tbody tr th:only-of-type {\n",
       "        vertical-align: middle;\n",
       "    }\n",
       "\n",
       "    .dataframe tbody tr th {\n",
       "        vertical-align: top;\n",
       "    }\n",
       "\n",
       "    .dataframe thead th {\n",
       "        text-align: right;\n",
       "    }\n",
       "</style>\n",
       "<table border=\"1\" class=\"dataframe\">\n",
       "  <thead>\n",
       "    <tr style=\"text-align: right;\">\n",
       "      <th></th>\n",
       "      <th>country</th>\n",
       "      <th>continent</th>\n",
       "      <th>year</th>\n",
       "      <th>lifeExp</th>\n",
       "      <th>pop</th>\n",
       "      <th>gdpPercap</th>\n",
       "    </tr>\n",
       "  </thead>\n",
       "  <tbody>\n",
       "    <tr>\n",
       "      <th>70</th>\n",
       "      <td>Australia</td>\n",
       "      <td>Oceania</td>\n",
       "      <td>2002</td>\n",
       "      <td>80.370</td>\n",
       "      <td>19546792</td>\n",
       "      <td>30687.75473</td>\n",
       "    </tr>\n",
       "    <tr>\n",
       "      <th>71</th>\n",
       "      <td>Australia</td>\n",
       "      <td>Oceania</td>\n",
       "      <td>2007</td>\n",
       "      <td>81.235</td>\n",
       "      <td>20434176</td>\n",
       "      <td>34435.36744</td>\n",
       "    </tr>\n",
       "    <tr>\n",
       "      <th>251</th>\n",
       "      <td>Canada</td>\n",
       "      <td>Americas</td>\n",
       "      <td>2007</td>\n",
       "      <td>80.653</td>\n",
       "      <td>33390141</td>\n",
       "      <td>36319.23501</td>\n",
       "    </tr>\n",
       "    <tr>\n",
       "      <th>539</th>\n",
       "      <td>France</td>\n",
       "      <td>Europe</td>\n",
       "      <td>2007</td>\n",
       "      <td>80.657</td>\n",
       "      <td>61083916</td>\n",
       "      <td>30470.01670</td>\n",
       "    </tr>\n",
       "    <tr>\n",
       "      <th>669</th>\n",
       "      <td>Hong Kong, China</td>\n",
       "      <td>Asia</td>\n",
       "      <td>1997</td>\n",
       "      <td>80.000</td>\n",
       "      <td>6495918</td>\n",
       "      <td>28377.63219</td>\n",
       "    </tr>\n",
       "    <tr>\n",
       "      <th>670</th>\n",
       "      <td>Hong Kong, China</td>\n",
       "      <td>Asia</td>\n",
       "      <td>2002</td>\n",
       "      <td>81.495</td>\n",
       "      <td>6762476</td>\n",
       "      <td>30209.01516</td>\n",
       "    </tr>\n",
       "    <tr>\n",
       "      <th>671</th>\n",
       "      <td>Hong Kong, China</td>\n",
       "      <td>Asia</td>\n",
       "      <td>2007</td>\n",
       "      <td>82.208</td>\n",
       "      <td>6980412</td>\n",
       "      <td>39724.97867</td>\n",
       "    </tr>\n",
       "    <tr>\n",
       "      <th>694</th>\n",
       "      <td>Iceland</td>\n",
       "      <td>Europe</td>\n",
       "      <td>2002</td>\n",
       "      <td>80.500</td>\n",
       "      <td>288030</td>\n",
       "      <td>31163.20196</td>\n",
       "    </tr>\n",
       "    <tr>\n",
       "      <th>695</th>\n",
       "      <td>Iceland</td>\n",
       "      <td>Europe</td>\n",
       "      <td>2007</td>\n",
       "      <td>81.757</td>\n",
       "      <td>301931</td>\n",
       "      <td>36180.78919</td>\n",
       "    </tr>\n",
       "    <tr>\n",
       "      <th>767</th>\n",
       "      <td>Israel</td>\n",
       "      <td>Asia</td>\n",
       "      <td>2007</td>\n",
       "      <td>80.745</td>\n",
       "      <td>6426679</td>\n",
       "      <td>25523.27710</td>\n",
       "    </tr>\n",
       "    <tr>\n",
       "      <th>778</th>\n",
       "      <td>Italy</td>\n",
       "      <td>Europe</td>\n",
       "      <td>2002</td>\n",
       "      <td>80.240</td>\n",
       "      <td>57926999</td>\n",
       "      <td>27968.09817</td>\n",
       "    </tr>\n",
       "    <tr>\n",
       "      <th>779</th>\n",
       "      <td>Italy</td>\n",
       "      <td>Europe</td>\n",
       "      <td>2007</td>\n",
       "      <td>80.546</td>\n",
       "      <td>58147733</td>\n",
       "      <td>28569.71970</td>\n",
       "    </tr>\n",
       "    <tr>\n",
       "      <th>801</th>\n",
       "      <td>Japan</td>\n",
       "      <td>Asia</td>\n",
       "      <td>1997</td>\n",
       "      <td>80.690</td>\n",
       "      <td>125956499</td>\n",
       "      <td>28816.58499</td>\n",
       "    </tr>\n",
       "    <tr>\n",
       "      <th>802</th>\n",
       "      <td>Japan</td>\n",
       "      <td>Asia</td>\n",
       "      <td>2002</td>\n",
       "      <td>82.000</td>\n",
       "      <td>127065841</td>\n",
       "      <td>28604.59190</td>\n",
       "    </tr>\n",
       "    <tr>\n",
       "      <th>803</th>\n",
       "      <td>Japan</td>\n",
       "      <td>Asia</td>\n",
       "      <td>2007</td>\n",
       "      <td>82.603</td>\n",
       "      <td>127467972</td>\n",
       "      <td>31656.06806</td>\n",
       "    </tr>\n",
       "    <tr>\n",
       "      <th>1103</th>\n",
       "      <td>New Zealand</td>\n",
       "      <td>Oceania</td>\n",
       "      <td>2007</td>\n",
       "      <td>80.204</td>\n",
       "      <td>4115771</td>\n",
       "      <td>25185.00911</td>\n",
       "    </tr>\n",
       "    <tr>\n",
       "      <th>1151</th>\n",
       "      <td>Norway</td>\n",
       "      <td>Europe</td>\n",
       "      <td>2007</td>\n",
       "      <td>80.196</td>\n",
       "      <td>4627926</td>\n",
       "      <td>49357.19017</td>\n",
       "    </tr>\n",
       "    <tr>\n",
       "      <th>1427</th>\n",
       "      <td>Spain</td>\n",
       "      <td>Europe</td>\n",
       "      <td>2007</td>\n",
       "      <td>80.941</td>\n",
       "      <td>40448191</td>\n",
       "      <td>28821.06370</td>\n",
       "    </tr>\n",
       "    <tr>\n",
       "      <th>1474</th>\n",
       "      <td>Sweden</td>\n",
       "      <td>Europe</td>\n",
       "      <td>2002</td>\n",
       "      <td>80.040</td>\n",
       "      <td>8954175</td>\n",
       "      <td>29341.63093</td>\n",
       "    </tr>\n",
       "    <tr>\n",
       "      <th>1475</th>\n",
       "      <td>Sweden</td>\n",
       "      <td>Europe</td>\n",
       "      <td>2007</td>\n",
       "      <td>80.884</td>\n",
       "      <td>9031088</td>\n",
       "      <td>33859.74835</td>\n",
       "    </tr>\n",
       "    <tr>\n",
       "      <th>1486</th>\n",
       "      <td>Switzerland</td>\n",
       "      <td>Europe</td>\n",
       "      <td>2002</td>\n",
       "      <td>80.620</td>\n",
       "      <td>7361757</td>\n",
       "      <td>34480.95771</td>\n",
       "    </tr>\n",
       "    <tr>\n",
       "      <th>1487</th>\n",
       "      <td>Switzerland</td>\n",
       "      <td>Europe</td>\n",
       "      <td>2007</td>\n",
       "      <td>81.701</td>\n",
       "      <td>7554661</td>\n",
       "      <td>37506.41907</td>\n",
       "    </tr>\n",
       "  </tbody>\n",
       "</table>\n",
       "</div>"
      ],
      "text/plain": [
       "               country continent  year  lifeExp        pop    gdpPercap\n",
       "70           Australia   Oceania  2002   80.370   19546792  30687.75473\n",
       "71           Australia   Oceania  2007   81.235   20434176  34435.36744\n",
       "251             Canada  Americas  2007   80.653   33390141  36319.23501\n",
       "539             France    Europe  2007   80.657   61083916  30470.01670\n",
       "669   Hong Kong, China      Asia  1997   80.000    6495918  28377.63219\n",
       "670   Hong Kong, China      Asia  2002   81.495    6762476  30209.01516\n",
       "671   Hong Kong, China      Asia  2007   82.208    6980412  39724.97867\n",
       "694            Iceland    Europe  2002   80.500     288030  31163.20196\n",
       "695            Iceland    Europe  2007   81.757     301931  36180.78919\n",
       "767             Israel      Asia  2007   80.745    6426679  25523.27710\n",
       "778              Italy    Europe  2002   80.240   57926999  27968.09817\n",
       "779              Italy    Europe  2007   80.546   58147733  28569.71970\n",
       "801              Japan      Asia  1997   80.690  125956499  28816.58499\n",
       "802              Japan      Asia  2002   82.000  127065841  28604.59190\n",
       "803              Japan      Asia  2007   82.603  127467972  31656.06806\n",
       "1103       New Zealand   Oceania  2007   80.204    4115771  25185.00911\n",
       "1151            Norway    Europe  2007   80.196    4627926  49357.19017\n",
       "1427             Spain    Europe  2007   80.941   40448191  28821.06370\n",
       "1474            Sweden    Europe  2002   80.040    8954175  29341.63093\n",
       "1475            Sweden    Europe  2007   80.884    9031088  33859.74835\n",
       "1486       Switzerland    Europe  2002   80.620    7361757  34480.95771\n",
       "1487       Switzerland    Europe  2007   81.701    7554661  37506.41907"
      ]
     },
     "execution_count": 67,
     "metadata": {},
     "output_type": "execute_result"
    }
   ],
   "source": [
    "gm.loc[ gm['lifeExp']>=80  ]"
   ]
  },
  {
   "cell_type": "markdown",
   "id": "2eed40c6-1b34-48b1-9aa7-3b25b793e8cb",
   "metadata": {
    "id": "ZgnvzuHhjw0U",
    "pycharm": {
     "name": "#%% md\n"
    }
   },
   "source": [
    "OK, some countries appear more than once. Can I get a quick list of unique country names? Yes, I can. It is worth emphasising that can **chain** DataFrame-producing statements, creating pipelines. The output of one method becomes the input of another."
   ]
  },
  {
   "cell_type": "code",
   "execution_count": 68,
   "id": "f4e53f09-475d-4b76-9a1f-40fae67b2128",
   "metadata": {
    "id": "R0_G6YrLjw0U",
    "pycharm": {
     "name": "#%%\n"
    }
   },
   "outputs": [
    {
     "data": {
      "text/plain": [
       "70             Australia\n",
       "251               Canada\n",
       "539               France\n",
       "669     Hong Kong, China\n",
       "694              Iceland\n",
       "767               Israel\n",
       "778                Italy\n",
       "801                Japan\n",
       "1103         New Zealand\n",
       "1151              Norway\n",
       "1427               Spain\n",
       "1474              Sweden\n",
       "1486         Switzerland\n",
       "Name: country, dtype: object"
      ]
     },
     "execution_count": 68,
     "metadata": {},
     "output_type": "execute_result"
    }
   ],
   "source": [
    "gm.loc[ gm['lifeExp']>=80 ]['country'].drop_duplicates()"
   ]
  },
  {
   "cell_type": "markdown",
   "id": "477c13f2-4540-4230-96a0-024711227c56",
   "metadata": {
    "id": "fqdT9OPGjw0U",
    "pycharm": {
     "name": "#%% md\n"
    }
   },
   "source": [
    "Confusing? You can split a single statement into several lines, by assigning intermediate results to variables."
   ]
  },
  {
   "cell_type": "code",
   "execution_count": 69,
   "id": "6d6ab0a6-47be-479b-98f0-4a8d7120a3f3",
   "metadata": {
    "id": "K56D6j5Ijw0U",
    "pycharm": {
     "name": "#%%\n"
    }
   },
   "outputs": [
    {
     "data": {
      "text/html": [
       "<div>\n",
       "<style scoped>\n",
       "    .dataframe tbody tr th:only-of-type {\n",
       "        vertical-align: middle;\n",
       "    }\n",
       "\n",
       "    .dataframe tbody tr th {\n",
       "        vertical-align: top;\n",
       "    }\n",
       "\n",
       "    .dataframe thead th {\n",
       "        text-align: right;\n",
       "    }\n",
       "</style>\n",
       "<table border=\"1\" class=\"dataframe\">\n",
       "  <thead>\n",
       "    <tr style=\"text-align: right;\">\n",
       "      <th></th>\n",
       "      <th>country</th>\n",
       "    </tr>\n",
       "  </thead>\n",
       "  <tbody>\n",
       "    <tr>\n",
       "      <th>70</th>\n",
       "      <td>Australia</td>\n",
       "    </tr>\n",
       "    <tr>\n",
       "      <th>251</th>\n",
       "      <td>Canada</td>\n",
       "    </tr>\n",
       "    <tr>\n",
       "      <th>539</th>\n",
       "      <td>France</td>\n",
       "    </tr>\n",
       "    <tr>\n",
       "      <th>669</th>\n",
       "      <td>Hong Kong, China</td>\n",
       "    </tr>\n",
       "    <tr>\n",
       "      <th>694</th>\n",
       "      <td>Iceland</td>\n",
       "    </tr>\n",
       "    <tr>\n",
       "      <th>767</th>\n",
       "      <td>Israel</td>\n",
       "    </tr>\n",
       "    <tr>\n",
       "      <th>778</th>\n",
       "      <td>Italy</td>\n",
       "    </tr>\n",
       "    <tr>\n",
       "      <th>801</th>\n",
       "      <td>Japan</td>\n",
       "    </tr>\n",
       "    <tr>\n",
       "      <th>1103</th>\n",
       "      <td>New Zealand</td>\n",
       "    </tr>\n",
       "    <tr>\n",
       "      <th>1151</th>\n",
       "      <td>Norway</td>\n",
       "    </tr>\n",
       "    <tr>\n",
       "      <th>1427</th>\n",
       "      <td>Spain</td>\n",
       "    </tr>\n",
       "    <tr>\n",
       "      <th>1474</th>\n",
       "      <td>Sweden</td>\n",
       "    </tr>\n",
       "    <tr>\n",
       "      <th>1486</th>\n",
       "      <td>Switzerland</td>\n",
       "    </tr>\n",
       "  </tbody>\n",
       "</table>\n",
       "</div>"
      ],
      "text/plain": [
       "               country\n",
       "70           Australia\n",
       "251             Canada\n",
       "539             France\n",
       "669   Hong Kong, China\n",
       "694            Iceland\n",
       "767             Israel\n",
       "778              Italy\n",
       "801              Japan\n",
       "1103       New Zealand\n",
       "1151            Norway\n",
       "1427             Spain\n",
       "1474            Sweden\n",
       "1486       Switzerland"
      ]
     },
     "execution_count": 69,
     "metadata": {},
     "output_type": "execute_result"
    }
   ],
   "source": [
    "# the subset of data for life expectancy equal to or greater than 80 years\n",
    "gm_gte80 = gm.loc[ gm['lifeExp']>=80 ]\n",
    "gm_gte80_country = gm_gte80[['country']]\n",
    "gm_gte80_country.drop_duplicates()"
   ]
  },
  {
   "cell_type": "markdown",
   "id": "b3162034-865a-4dc8-9312-28aadfaeaf41",
   "metadata": {
    "id": "iwSuH1YMjw0V",
    "pycharm": {
     "name": "#%% md\n"
    }
   },
   "source": [
    "**checkpoint**: could you write Code cells for retrieving the following subsets of data?\n",
    "\n",
    "* all the observations in 1952.\n",
    "* all those that have a GDP-per-capita greater than US$30K.\n",
    "* are there any instances where life expectancy was lower than 30 years?"
   ]
  },
  {
   "cell_type": "markdown",
   "id": "d9a7528b-043b-41ff-b429-d9c397f324b9",
   "metadata": {
    "id": "q8D8p8Shjw0V",
    "pycharm": {
     "name": "#%% md\n"
    }
   },
   "source": [
    "### DataFrame Shape"
   ]
  },
  {
   "cell_type": "code",
   "execution_count": 70,
   "id": "38c37496-9899-46ad-ab57-b4b50c99a88a",
   "metadata": {
    "id": "8egbfSTBjw0V",
    "pycharm": {
     "name": "#%%\n"
    }
   },
   "outputs": [
    {
     "data": {
      "text/plain": [
       "(1704, 6)"
      ]
     },
     "execution_count": 70,
     "metadata": {},
     "output_type": "execute_result"
    }
   ],
   "source": [
    "gm.shape"
   ]
  },
  {
   "cell_type": "code",
   "execution_count": 71,
   "id": "749493d3-d9f4-48d5-9b17-1083b3711b28",
   "metadata": {
    "id": "QRolZh50jw0V",
    "pycharm": {
     "name": "#%%\n"
    }
   },
   "outputs": [
    {
     "data": {
      "text/plain": [
       "1704"
      ]
     },
     "execution_count": 71,
     "metadata": {},
     "output_type": "execute_result"
    }
   ],
   "source": [
    "len(gm)"
   ]
  },
  {
   "cell_type": "code",
   "execution_count": 72,
   "id": "5d5e6419-3470-4e82-9daf-f9378273b699",
   "metadata": {
    "id": "4WcirAuLjw0V",
    "pycharm": {
     "name": "#%%\n"
    }
   },
   "outputs": [
    {
     "data": {
      "text/plain": [
       "1704"
      ]
     },
     "execution_count": 72,
     "metadata": {},
     "output_type": "execute_result"
    }
   ],
   "source": [
    "gm.shape[0]"
   ]
  },
  {
   "cell_type": "code",
   "execution_count": 73,
   "id": "bc8785b7-8332-4e98-ae5e-94e99b1aa6e7",
   "metadata": {
    "id": "jtfCopZOjw0V",
    "pycharm": {
     "name": "#%%\n"
    }
   },
   "outputs": [
    {
     "data": {
      "text/plain": [
       "6"
      ]
     },
     "execution_count": 73,
     "metadata": {},
     "output_type": "execute_result"
    }
   ],
   "source": [
    "gm.shape[1]"
   ]
  },
  {
   "cell_type": "markdown",
   "id": "31231e56-cadb-4daa-89be-bad6dea2ac63",
   "metadata": {
    "id": "FFDqogfpjw0V",
    "pycharm": {
     "name": "#%% md\n"
    }
   },
   "source": [
    "### Subsetting DataFrames: Multiple Conditions"
   ]
  },
  {
   "cell_type": "markdown",
   "id": "cca0ddea-b196-4147-a73e-64c395ff5f2f",
   "metadata": {
    "id": "lOJfQZSBjw0V",
    "pycharm": {
     "name": "#%% md\n"
    }
   },
   "source": [
    "You will need the brackets to make sure that the evaluation order is correct."
   ]
  },
  {
   "cell_type": "code",
   "execution_count": 74,
   "id": "74c7d88a-a984-4551-9578-841b63430fbf",
   "metadata": {
    "id": "0pmTvOWdjw0V",
    "pycharm": {
     "name": "#%%\n"
    }
   },
   "outputs": [
    {
     "data": {
      "text/html": [
       "<div>\n",
       "<style scoped>\n",
       "    .dataframe tbody tr th:only-of-type {\n",
       "        vertical-align: middle;\n",
       "    }\n",
       "\n",
       "    .dataframe tbody tr th {\n",
       "        vertical-align: top;\n",
       "    }\n",
       "\n",
       "    .dataframe thead th {\n",
       "        text-align: right;\n",
       "    }\n",
       "</style>\n",
       "<table border=\"1\" class=\"dataframe\">\n",
       "  <thead>\n",
       "    <tr style=\"text-align: right;\">\n",
       "      <th></th>\n",
       "      <th>country</th>\n",
       "      <th>continent</th>\n",
       "      <th>year</th>\n",
       "      <th>lifeExp</th>\n",
       "      <th>pop</th>\n",
       "      <th>gdpPercap</th>\n",
       "    </tr>\n",
       "  </thead>\n",
       "  <tbody>\n",
       "    <tr>\n",
       "      <th>408</th>\n",
       "      <td>Denmark</td>\n",
       "      <td>Europe</td>\n",
       "      <td>1952</td>\n",
       "      <td>70.78</td>\n",
       "      <td>4334000</td>\n",
       "      <td>9692.385245</td>\n",
       "    </tr>\n",
       "    <tr>\n",
       "      <th>684</th>\n",
       "      <td>Iceland</td>\n",
       "      <td>Europe</td>\n",
       "      <td>1952</td>\n",
       "      <td>72.49</td>\n",
       "      <td>147962</td>\n",
       "      <td>7267.688428</td>\n",
       "    </tr>\n",
       "    <tr>\n",
       "      <th>1080</th>\n",
       "      <td>Netherlands</td>\n",
       "      <td>Europe</td>\n",
       "      <td>1952</td>\n",
       "      <td>72.13</td>\n",
       "      <td>10381988</td>\n",
       "      <td>8941.571858</td>\n",
       "    </tr>\n",
       "    <tr>\n",
       "      <th>1140</th>\n",
       "      <td>Norway</td>\n",
       "      <td>Europe</td>\n",
       "      <td>1952</td>\n",
       "      <td>72.67</td>\n",
       "      <td>3327728</td>\n",
       "      <td>10095.421720</td>\n",
       "    </tr>\n",
       "    <tr>\n",
       "      <th>1464</th>\n",
       "      <td>Sweden</td>\n",
       "      <td>Europe</td>\n",
       "      <td>1952</td>\n",
       "      <td>71.86</td>\n",
       "      <td>7124673</td>\n",
       "      <td>8527.844662</td>\n",
       "    </tr>\n",
       "  </tbody>\n",
       "</table>\n",
       "</div>"
      ],
      "text/plain": [
       "          country continent  year  lifeExp       pop     gdpPercap\n",
       "408       Denmark    Europe  1952    70.78   4334000   9692.385245\n",
       "684       Iceland    Europe  1952    72.49    147962   7267.688428\n",
       "1080  Netherlands    Europe  1952    72.13  10381988   8941.571858\n",
       "1140       Norway    Europe  1952    72.67   3327728  10095.421720\n",
       "1464       Sweden    Europe  1952    71.86   7124673   8527.844662"
      ]
     },
     "execution_count": 74,
     "metadata": {},
     "output_type": "execute_result"
    }
   ],
   "source": [
    "gm.loc[ (gm['year']==1952) & (gm['lifeExp']>70) ]"
   ]
  },
  {
   "cell_type": "code",
   "execution_count": 75,
   "id": "dfe7a286-1dc6-487d-affd-f16b59470695",
   "metadata": {
    "id": "PHKO-Pexjw0V",
    "pycharm": {
     "name": "#%%\n"
    }
   },
   "outputs": [
    {
     "data": {
      "text/html": [
       "<div>\n",
       "<style scoped>\n",
       "    .dataframe tbody tr th:only-of-type {\n",
       "        vertical-align: middle;\n",
       "    }\n",
       "\n",
       "    .dataframe tbody tr th {\n",
       "        vertical-align: top;\n",
       "    }\n",
       "\n",
       "    .dataframe thead th {\n",
       "        text-align: right;\n",
       "    }\n",
       "</style>\n",
       "<table border=\"1\" class=\"dataframe\">\n",
       "  <thead>\n",
       "    <tr style=\"text-align: right;\">\n",
       "      <th></th>\n",
       "      <th>country</th>\n",
       "      <th>continent</th>\n",
       "      <th>year</th>\n",
       "      <th>lifeExp</th>\n",
       "      <th>pop</th>\n",
       "      <th>gdpPercap</th>\n",
       "    </tr>\n",
       "  </thead>\n",
       "  <tbody>\n",
       "    <tr>\n",
       "      <th>23</th>\n",
       "      <td>Albania</td>\n",
       "      <td>Europe</td>\n",
       "      <td>2007</td>\n",
       "      <td>76.423</td>\n",
       "      <td>3600523</td>\n",
       "      <td>5937.029526</td>\n",
       "    </tr>\n",
       "    <tr>\n",
       "      <th>35</th>\n",
       "      <td>Algeria</td>\n",
       "      <td>Africa</td>\n",
       "      <td>2007</td>\n",
       "      <td>72.301</td>\n",
       "      <td>33333216</td>\n",
       "      <td>6223.367465</td>\n",
       "    </tr>\n",
       "    <tr>\n",
       "      <th>59</th>\n",
       "      <td>Argentina</td>\n",
       "      <td>Americas</td>\n",
       "      <td>2007</td>\n",
       "      <td>75.320</td>\n",
       "      <td>40301927</td>\n",
       "      <td>12779.379640</td>\n",
       "    </tr>\n",
       "    <tr>\n",
       "      <th>71</th>\n",
       "      <td>Australia</td>\n",
       "      <td>Oceania</td>\n",
       "      <td>2007</td>\n",
       "      <td>81.235</td>\n",
       "      <td>20434176</td>\n",
       "      <td>34435.367440</td>\n",
       "    </tr>\n",
       "    <tr>\n",
       "      <th>83</th>\n",
       "      <td>Austria</td>\n",
       "      <td>Europe</td>\n",
       "      <td>2007</td>\n",
       "      <td>79.829</td>\n",
       "      <td>8199783</td>\n",
       "      <td>36126.492700</td>\n",
       "    </tr>\n",
       "    <tr>\n",
       "      <th>...</th>\n",
       "      <td>...</td>\n",
       "      <td>...</td>\n",
       "      <td>...</td>\n",
       "      <td>...</td>\n",
       "      <td>...</td>\n",
       "      <td>...</td>\n",
       "    </tr>\n",
       "    <tr>\n",
       "      <th>1619</th>\n",
       "      <td>United States</td>\n",
       "      <td>Americas</td>\n",
       "      <td>2007</td>\n",
       "      <td>78.242</td>\n",
       "      <td>301139947</td>\n",
       "      <td>42951.653090</td>\n",
       "    </tr>\n",
       "    <tr>\n",
       "      <th>1631</th>\n",
       "      <td>Uruguay</td>\n",
       "      <td>Americas</td>\n",
       "      <td>2007</td>\n",
       "      <td>76.384</td>\n",
       "      <td>3447496</td>\n",
       "      <td>10611.462990</td>\n",
       "    </tr>\n",
       "    <tr>\n",
       "      <th>1643</th>\n",
       "      <td>Venezuela</td>\n",
       "      <td>Americas</td>\n",
       "      <td>2007</td>\n",
       "      <td>73.747</td>\n",
       "      <td>26084662</td>\n",
       "      <td>11415.805690</td>\n",
       "    </tr>\n",
       "    <tr>\n",
       "      <th>1655</th>\n",
       "      <td>Vietnam</td>\n",
       "      <td>Asia</td>\n",
       "      <td>2007</td>\n",
       "      <td>74.249</td>\n",
       "      <td>85262356</td>\n",
       "      <td>2441.576404</td>\n",
       "    </tr>\n",
       "    <tr>\n",
       "      <th>1667</th>\n",
       "      <td>West Bank and Gaza</td>\n",
       "      <td>Asia</td>\n",
       "      <td>2007</td>\n",
       "      <td>73.422</td>\n",
       "      <td>4018332</td>\n",
       "      <td>3025.349798</td>\n",
       "    </tr>\n",
       "  </tbody>\n",
       "</table>\n",
       "<p>83 rows × 6 columns</p>\n",
       "</div>"
      ],
      "text/plain": [
       "                 country continent  year  lifeExp        pop     gdpPercap\n",
       "23               Albania    Europe  2007   76.423    3600523   5937.029526\n",
       "35               Algeria    Africa  2007   72.301   33333216   6223.367465\n",
       "59             Argentina  Americas  2007   75.320   40301927  12779.379640\n",
       "71             Australia   Oceania  2007   81.235   20434176  34435.367440\n",
       "83               Austria    Europe  2007   79.829    8199783  36126.492700\n",
       "...                  ...       ...   ...      ...        ...           ...\n",
       "1619       United States  Americas  2007   78.242  301139947  42951.653090\n",
       "1631             Uruguay  Americas  2007   76.384    3447496  10611.462990\n",
       "1643           Venezuela  Americas  2007   73.747   26084662  11415.805690\n",
       "1655             Vietnam      Asia  2007   74.249   85262356   2441.576404\n",
       "1667  West Bank and Gaza      Asia  2007   73.422    4018332   3025.349798\n",
       "\n",
       "[83 rows x 6 columns]"
      ]
     },
     "execution_count": 75,
     "metadata": {},
     "output_type": "execute_result"
    }
   ],
   "source": [
    "gm.loc[ (gm['year']==2007) & (gm['lifeExp']>70) ]"
   ]
  },
  {
   "cell_type": "markdown",
   "id": "9faa36bc-d849-4422-8d26-7ca181433b60",
   "metadata": {
    "id": "7v_M6KJfjw0W",
    "pycharm": {
     "name": "#%% md\n"
    }
   },
   "source": [
    "Would you to like to know how many? `.shape` or `len` will help you here."
   ]
  },
  {
   "cell_type": "code",
   "execution_count": 76,
   "id": "d1a217fe-0d61-4c15-a449-955ce13a5137",
   "metadata": {
    "id": "I9aAvlwljw0W",
    "pycharm": {
     "name": "#%%\n"
    }
   },
   "outputs": [
    {
     "data": {
      "text/plain": [
       "5"
      ]
     },
     "execution_count": 76,
     "metadata": {},
     "output_type": "execute_result"
    }
   ],
   "source": [
    "the_subset = gm.loc[ (gm['year']==1952) & (gm['lifeExp']>70) ]\n",
    "len(the_subset)"
   ]
  },
  {
   "cell_type": "code",
   "execution_count": 77,
   "id": "396c36b9-145d-4522-ab05-c493548ca7cf",
   "metadata": {
    "id": "tIHR3Evwjw0W",
    "pycharm": {
     "name": "#%%\n"
    }
   },
   "outputs": [
    {
     "data": {
      "text/plain": [
       "83"
      ]
     },
     "execution_count": 77,
     "metadata": {},
     "output_type": "execute_result"
    }
   ],
   "source": [
    "the_subset = gm.loc[ (gm['year']==2007) & (gm['lifeExp']>70) ]\n",
    "len(the_subset)"
   ]
  },
  {
   "cell_type": "markdown",
   "id": "0beb8521-d6ed-42d7-b9b3-eb111e0cf926",
   "metadata": {
    "id": "pd-3vOnLjw0W",
    "pycharm": {
     "name": "#%% md\n"
    }
   },
   "source": [
    "What is a suitable interpretaiton of these next two pieces of code?"
   ]
  },
  {
   "cell_type": "code",
   "execution_count": 78,
   "id": "89d0cbc2-b152-4821-95e7-8b46bd40aab1",
   "metadata": {
    "id": "5eN9y-arjw0W",
    "pycharm": {
     "name": "#%%\n"
    }
   },
   "outputs": [
    {
     "data": {
      "text/html": [
       "<div>\n",
       "<style scoped>\n",
       "    .dataframe tbody tr th:only-of-type {\n",
       "        vertical-align: middle;\n",
       "    }\n",
       "\n",
       "    .dataframe tbody tr th {\n",
       "        vertical-align: top;\n",
       "    }\n",
       "\n",
       "    .dataframe thead th {\n",
       "        text-align: right;\n",
       "    }\n",
       "</style>\n",
       "<table border=\"1\" class=\"dataframe\">\n",
       "  <thead>\n",
       "    <tr style=\"text-align: right;\">\n",
       "      <th></th>\n",
       "      <th>country</th>\n",
       "      <th>continent</th>\n",
       "      <th>year</th>\n",
       "      <th>lifeExp</th>\n",
       "      <th>pop</th>\n",
       "      <th>gdpPercap</th>\n",
       "    </tr>\n",
       "  </thead>\n",
       "  <tbody>\n",
       "    <tr>\n",
       "      <th>70</th>\n",
       "      <td>Australia</td>\n",
       "      <td>Oceania</td>\n",
       "      <td>2002</td>\n",
       "      <td>80.370</td>\n",
       "      <td>19546792</td>\n",
       "      <td>30687.75473</td>\n",
       "    </tr>\n",
       "    <tr>\n",
       "      <th>71</th>\n",
       "      <td>Australia</td>\n",
       "      <td>Oceania</td>\n",
       "      <td>2007</td>\n",
       "      <td>81.235</td>\n",
       "      <td>20434176</td>\n",
       "      <td>34435.36744</td>\n",
       "    </tr>\n",
       "    <tr>\n",
       "      <th>251</th>\n",
       "      <td>Canada</td>\n",
       "      <td>Americas</td>\n",
       "      <td>2007</td>\n",
       "      <td>80.653</td>\n",
       "      <td>33390141</td>\n",
       "      <td>36319.23501</td>\n",
       "    </tr>\n",
       "    <tr>\n",
       "      <th>539</th>\n",
       "      <td>France</td>\n",
       "      <td>Europe</td>\n",
       "      <td>2007</td>\n",
       "      <td>80.657</td>\n",
       "      <td>61083916</td>\n",
       "      <td>30470.01670</td>\n",
       "    </tr>\n",
       "    <tr>\n",
       "      <th>669</th>\n",
       "      <td>Hong Kong, China</td>\n",
       "      <td>Asia</td>\n",
       "      <td>1997</td>\n",
       "      <td>80.000</td>\n",
       "      <td>6495918</td>\n",
       "      <td>28377.63219</td>\n",
       "    </tr>\n",
       "  </tbody>\n",
       "</table>\n",
       "</div>"
      ],
      "text/plain": [
       "              country continent  year  lifeExp       pop    gdpPercap\n",
       "70          Australia   Oceania  2002   80.370  19546792  30687.75473\n",
       "71          Australia   Oceania  2007   81.235  20434176  34435.36744\n",
       "251            Canada  Americas  2007   80.653  33390141  36319.23501\n",
       "539            France    Europe  2007   80.657  61083916  30470.01670\n",
       "669  Hong Kong, China      Asia  1997   80.000   6495918  28377.63219"
      ]
     },
     "execution_count": 78,
     "metadata": {},
     "output_type": "execute_result"
    }
   ],
   "source": [
    "gm.loc[ (gm['lifeExp']>=78) & (gm['lifeExp']>=80) ].head()"
   ]
  },
  {
   "cell_type": "code",
   "execution_count": 79,
   "id": "1b08b66f-6ba4-40bf-93af-c123ac5bc838",
   "metadata": {
    "id": "ZJVUj0kEjw0W",
    "pycharm": {
     "name": "#%%\n"
    }
   },
   "outputs": [
    {
     "data": {
      "text/html": [
       "<div>\n",
       "<style scoped>\n",
       "    .dataframe tbody tr th:only-of-type {\n",
       "        vertical-align: middle;\n",
       "    }\n",
       "\n",
       "    .dataframe tbody tr th {\n",
       "        vertical-align: top;\n",
       "    }\n",
       "\n",
       "    .dataframe thead th {\n",
       "        text-align: right;\n",
       "    }\n",
       "</style>\n",
       "<table border=\"1\" class=\"dataframe\">\n",
       "  <thead>\n",
       "    <tr style=\"text-align: right;\">\n",
       "      <th></th>\n",
       "      <th>country</th>\n",
       "      <th>continent</th>\n",
       "      <th>year</th>\n",
       "      <th>lifeExp</th>\n",
       "      <th>pop</th>\n",
       "      <th>gdpPercap</th>\n",
       "    </tr>\n",
       "  </thead>\n",
       "  <tbody>\n",
       "    <tr>\n",
       "      <th>0</th>\n",
       "      <td>Afghanistan</td>\n",
       "      <td>Asia</td>\n",
       "      <td>1952</td>\n",
       "      <td>28.801</td>\n",
       "      <td>8425333</td>\n",
       "      <td>779.445314</td>\n",
       "    </tr>\n",
       "    <tr>\n",
       "      <th>71</th>\n",
       "      <td>Australia</td>\n",
       "      <td>Oceania</td>\n",
       "      <td>2007</td>\n",
       "      <td>81.235</td>\n",
       "      <td>20434176</td>\n",
       "      <td>34435.367440</td>\n",
       "    </tr>\n",
       "    <tr>\n",
       "      <th>670</th>\n",
       "      <td>Hong Kong, China</td>\n",
       "      <td>Asia</td>\n",
       "      <td>2002</td>\n",
       "      <td>81.495</td>\n",
       "      <td>6762476</td>\n",
       "      <td>30209.015160</td>\n",
       "    </tr>\n",
       "    <tr>\n",
       "      <th>671</th>\n",
       "      <td>Hong Kong, China</td>\n",
       "      <td>Asia</td>\n",
       "      <td>2007</td>\n",
       "      <td>82.208</td>\n",
       "      <td>6980412</td>\n",
       "      <td>39724.978670</td>\n",
       "    </tr>\n",
       "    <tr>\n",
       "      <th>695</th>\n",
       "      <td>Iceland</td>\n",
       "      <td>Europe</td>\n",
       "      <td>2007</td>\n",
       "      <td>81.757</td>\n",
       "      <td>301931</td>\n",
       "      <td>36180.789190</td>\n",
       "    </tr>\n",
       "    <tr>\n",
       "      <th>802</th>\n",
       "      <td>Japan</td>\n",
       "      <td>Asia</td>\n",
       "      <td>2002</td>\n",
       "      <td>82.000</td>\n",
       "      <td>127065841</td>\n",
       "      <td>28604.591900</td>\n",
       "    </tr>\n",
       "    <tr>\n",
       "      <th>803</th>\n",
       "      <td>Japan</td>\n",
       "      <td>Asia</td>\n",
       "      <td>2007</td>\n",
       "      <td>82.603</td>\n",
       "      <td>127467972</td>\n",
       "      <td>31656.068060</td>\n",
       "    </tr>\n",
       "    <tr>\n",
       "      <th>1292</th>\n",
       "      <td>Rwanda</td>\n",
       "      <td>Africa</td>\n",
       "      <td>1992</td>\n",
       "      <td>23.599</td>\n",
       "      <td>7290203</td>\n",
       "      <td>737.068595</td>\n",
       "    </tr>\n",
       "    <tr>\n",
       "      <th>1487</th>\n",
       "      <td>Switzerland</td>\n",
       "      <td>Europe</td>\n",
       "      <td>2007</td>\n",
       "      <td>81.701</td>\n",
       "      <td>7554661</td>\n",
       "      <td>37506.419070</td>\n",
       "    </tr>\n",
       "  </tbody>\n",
       "</table>\n",
       "</div>"
      ],
      "text/plain": [
       "               country continent  year  lifeExp        pop     gdpPercap\n",
       "0          Afghanistan      Asia  1952   28.801    8425333    779.445314\n",
       "71           Australia   Oceania  2007   81.235   20434176  34435.367440\n",
       "670   Hong Kong, China      Asia  2002   81.495    6762476  30209.015160\n",
       "671   Hong Kong, China      Asia  2007   82.208    6980412  39724.978670\n",
       "695            Iceland    Europe  2007   81.757     301931  36180.789190\n",
       "802              Japan      Asia  2002   82.000  127065841  28604.591900\n",
       "803              Japan      Asia  2007   82.603  127467972  31656.068060\n",
       "1292            Rwanda    Africa  1992   23.599    7290203    737.068595\n",
       "1487       Switzerland    Europe  2007   81.701    7554661  37506.419070"
      ]
     },
     "execution_count": 79,
     "metadata": {},
     "output_type": "execute_result"
    }
   ],
   "source": [
    "gm.loc[ (gm['lifeExp']<30) | (gm['lifeExp']>81) ]"
   ]
  },
  {
   "cell_type": "markdown",
   "id": "86366acf-880e-46ed-8962-9a6b6f49566d",
   "metadata": {
    "id": "sdNLI5gpjw0W",
    "pycharm": {
     "name": "#%% md\n"
    }
   },
   "source": [
    "### Sorting the Rows of a DataFrame"
   ]
  },
  {
   "cell_type": "code",
   "execution_count": 81,
   "id": "334c9b79-1fe8-49f0-b162-459de31a812c",
   "metadata": {
    "id": "kgrxbgsdjw0W",
    "tags": [],
    "pycharm": {
     "name": "#%%\n"
    }
   },
   "outputs": [],
   "source": [
    "# inline documentation on a method? Use the exclamation mark\n",
    "# gm.sort_values?"
   ]
  },
  {
   "cell_type": "code",
   "execution_count": null,
   "id": "7fb36a4e-53d3-45d1-b1c0-32eb9133ea4c",
   "metadata": {
    "id": "oWYsmMNijw0W",
    "pycharm": {
     "name": "#%%\n"
    }
   },
   "outputs": [],
   "source": [
    "gm_2007 = gm.loc[ gm['year']==2007 ]\n",
    "gm_2007.sort_values(by='pop').head()"
   ]
  },
  {
   "cell_type": "code",
   "execution_count": null,
   "id": "bba254e3-6e5b-4818-adee-930057565fe9",
   "metadata": {
    "id": "jL-TVBdxjw0W",
    "pycharm": {
     "name": "#%%\n"
    }
   },
   "outputs": [],
   "source": [
    "gm_2007.sort_values(by='pop', ascending=False).head()"
   ]
  },
  {
   "cell_type": "markdown",
   "id": "8b530464-e52e-4cd1-9bb4-b69d8a69c0c8",
   "metadata": {
    "id": "9BFyRFh5jw0W",
    "pycharm": {
     "name": "#%% md\n"
    }
   },
   "source": [
    "## Exercises"
   ]
  },
  {
   "cell_type": "markdown",
   "id": "d190d477-2875-4803-946d-91b0926ec9b4",
   "metadata": {
    "id": "thkoNO_Ajw0X",
    "pycharm": {
     "name": "#%% md\n"
    }
   },
   "source": [
    "As a reminder, this is the DataFrame we are starting with:"
   ]
  },
  {
   "cell_type": "code",
   "execution_count": null,
   "id": "2b8c9ced-bd9f-4c78-b726-29443044c370",
   "metadata": {
    "id": "LJTHRN20jw0X",
    "pycharm": {
     "name": "#%%\n"
    }
   },
   "outputs": [],
   "source": [
    "gm.head(1)"
   ]
  },
  {
   "cell_type": "markdown",
   "id": "2c745cac-566f-4834-ae30-1ebf71e2b5c8",
   "metadata": {
    "id": "Kp_ncAxqjw0X",
    "pycharm": {
     "name": "#%% md\n"
    }
   },
   "source": [
    "1. Select only the observations for the year of 1972."
   ]
  },
  {
   "cell_type": "markdown",
   "id": "1b460005-6c1c-4927-a608-7c4b702b6a4c",
   "metadata": {
    "id": "R48cVQHTjw0X",
    "pycharm": {
     "name": "#%% md\n"
    }
   },
   "source": [
    "2. For the resulting DataFrame of query above, how many data instances there are?"
   ]
  },
  {
   "cell_type": "markdown",
   "id": "5bb263ab-14b8-4552-aba3-a9187d0fa0d1",
   "metadata": {
    "id": "Z3P_PNcljw0X",
    "pycharm": {
     "name": "#%% md\n"
    }
   },
   "source": [
    "3. Obtain the rows for Brazil only."
   ]
  },
  {
   "cell_type": "markdown",
   "id": "4cb96e38-36b6-4615-a95f-5b33dce10c85",
   "metadata": {
    "id": "zueJWgKpjw0X",
    "pycharm": {
     "name": "#%% md\n"
    }
   },
   "source": [
    "4. What are the years for which observations have been recorded? (you might want to check what methods such as `.unique()` and `.value_counts()` can do for you here."
   ]
  },
  {
   "cell_type": "markdown",
   "id": "4e44bdeb-5ea2-43e9-9bf3-69aab966b304",
   "metadata": {
    "id": "c4eEKDVejw0X",
    "pycharm": {
     "name": "#%% md\n"
    }
   },
   "source": [
    "5. And how many different years?"
   ]
  },
  {
   "cell_type": "markdown",
   "id": "642ca51a-5670-40f6-a16b-721b9486164f",
   "metadata": {
    "id": "ufAzdYJVjw0X",
    "pycharm": {
     "name": "#%% md\n"
    }
   },
   "source": [
    "6. What are top-10 countries in 2007 with with respect to life expectancy?"
   ]
  },
  {
   "cell_type": "markdown",
   "id": "b54f46c1-02a2-489c-bafc-31de6dae2aee",
   "metadata": {
    "id": "V3y1uioBjw0X",
    "pycharm": {
     "name": "#%% md\n"
    }
   },
   "source": [
    "7. Obtain the subset of observations for Asia in 2007."
   ]
  },
  {
   "cell_type": "markdown",
   "id": "1096f596-5995-491d-9642-2bcaadd3c923",
   "metadata": {
    "id": "XGsFU7Tkjw0X",
    "pycharm": {
     "name": "#%% md\n"
    }
   },
   "source": [
    "8. Produce the observations for South America for the period between 2000 and 2009."
   ]
  },
  {
   "cell_type": "markdown",
   "id": "a9d72968-4b72-4ca8-b728-22d035d3a5a4",
   "metadata": {
    "id": "KOYKrBGEjw0X",
    "pycharm": {
     "name": "#%% md\n"
    }
   },
   "source": [
    "9. Show life expectancy and GDP-per-capita for Brazil."
   ]
  },
  {
   "cell_type": "markdown",
   "id": "9ff71cff-750c-4c11-b9cf-6c4c86c41a87",
   "metadata": {
    "id": "p5e5fsXHjw0X",
    "pycharm": {
     "name": "#%% md\n"
    }
   },
   "source": [
    "10. How many observations do we have for each continent?"
   ]
  },
  {
   "cell_type": "markdown",
   "id": "b957bcda-553a-4f95-a04e-3fb2b2b60470",
   "metadata": {
    "id": "p3PaHQRWjw0X",
    "pycharm": {
     "name": "#%% md\n"
    }
   },
   "source": [
    "11. What is the life expectancy for Brazil measured in 2007?"
   ]
  }
 ],
 "metadata": {
  "kernelspec": {
   "display_name": "Python 3 (ipykernel)",
   "language": "python",
   "name": "python3"
  },
  "language_info": {
   "codemirror_mode": {
    "name": "ipython",
    "version": 3
   },
   "file_extension": ".py",
   "mimetype": "text/x-python",
   "name": "python",
   "nbconvert_exporter": "python",
   "pygments_lexer": "ipython3",
   "version": "3.10.5"
  }
 },
 "nbformat": 4,
 "nbformat_minor": 5
}